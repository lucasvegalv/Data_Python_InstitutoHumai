{
  "cells": [
    {
      "cell_type": "markdown",
      "metadata": {
        "id": "jRthgMbSXWIA"
      },
      "source": [
        "<a href=\"https://colab.research.google.com/github/institutohumai/cursos-python/blob/master/AnalisisDeDatos/4_Data_Wrangling_Avanzado/data_wrangling_avanzado_solucion.ipynb\"> <img src='https://colab.research.google.com/assets/colab-badge.svg' /> </a>\n",
        "<div align=\"center\"> Recordá abrir en una nueva pestaña </div>"
      ]
    },
    {
      "cell_type": "markdown",
      "metadata": {
        "id": "4vmL-7FlXWIJ"
      },
      "source": [
        "# Data Wrangling Avanzado\n"
      ]
    },
    {
      "cell_type": "markdown",
      "metadata": {
        "id": "xXDCDMNfXWIK"
      },
      "source": [
        "## Tabla de Contenidos\n",
        "\n",
        "I. Data Wrangling Avanzado\n",
        "\n",
        "    I. Tabla de Contenidos\n",
        "\n",
        "II. Table of Contents\n",
        "\n",
        "    I. Introducción\n",
        "    II. Pandas y Cadenas de caracteres\n",
        "        I. count\n",
        "        II. Ejercicio\n",
        "        III. contains\n",
        "        IV. lower, upper y title\n",
        "        V. split\n",
        "\n",
        "III. ¿Cómo organizar la información? OLAP, OLTP y Tidy data\n",
        "\n",
        "    I. OLTP y OLAP\n",
        "    II. Tidy data\n",
        "        I. Tuberculosis\n",
        "            I. Tabla 1\n",
        "            II. Tablas 2.a y 2.b\n",
        "            III. Tabla 3\n",
        "            IV. Tabla 4\n",
        "            V. Tabla 5\n",
        "    III. Melt\n",
        "        I. Ejercicios\n",
        "        II. Ejercicios\n",
        "\n",
        "IV. Series de Tiempo\n",
        "\n",
        "    I. Datetime y metodos de manipulacion de series de tiempo\n",
        "    II. Ventanas y Medias moviles\n",
        "    III. Shift y Diff"
      ]
    },
    {
      "cell_type": "markdown",
      "metadata": {
        "id": "ZMalovhcXWIL"
      },
      "source": [
        "## Introducción\n",
        "\n",
        "En esta clase vamos a ver cómo hacer manejo avanzado de datos a partir, tanto en cadenas de caracteres como en series de tiempo. El primer dataset que vamos a utilizar es del portal de datos abiertos de España."
      ]
    },
    {
      "cell_type": "code",
      "execution_count": null,
      "metadata": {
        "id": "MA0A3Xk-XWIM"
      },
      "outputs": [],
      "source": [
        "# !pip install seaborn\n",
        "# !pip install numpy==1.18.5"
      ]
    },
    {
      "cell_type": "code",
      "execution_count": null,
      "metadata": {
        "id": "ns_bzskOXWIO"
      },
      "outputs": [],
      "source": [
        "import pandas as pd\n",
        "import numpy as np"
      ]
    },
    {
      "cell_type": "code",
      "execution_count": null,
      "metadata": {
        "id": "nqkHBpG5XWIO"
      },
      "outputs": [],
      "source": [
        "df = pd.read_csv('https://datasets-humai.s3.amazonaws.com/datasets/parodesprov.csv')"
      ]
    },
    {
      "cell_type": "code",
      "execution_count": null,
      "metadata": {
        "id": "HC-yfno2XWIP",
        "outputId": "dcf9f441-5228-4cb2-8224-98c39ac42f1e"
      },
      "outputs": [
        {
          "data": {
            "text/html": [
              "<div>\n",
              "<style scoped>\n",
              "    .dataframe tbody tr th:only-of-type {\n",
              "        vertical-align: middle;\n",
              "    }\n",
              "\n",
              "    .dataframe tbody tr th {\n",
              "        vertical-align: top;\n",
              "    }\n",
              "\n",
              "    .dataframe thead th {\n",
              "        text-align: right;\n",
              "    }\n",
              "</style>\n",
              "<table border=\"1\" class=\"dataframe\">\n",
              "  <thead>\n",
              "    <tr style=\"text-align: right;\">\n",
              "      <th></th>\n",
              "      <th>OBJECTID</th>\n",
              "      <th>Codigo</th>\n",
              "      <th>Texto</th>\n",
              "      <th>Cod_Prov</th>\n",
              "      <th>Cod_CCAA</th>\n",
              "      <th>TotalParoRegistrado</th>\n",
              "      <th>PAD_1C02</th>\n",
              "      <th>PAD_1_COD_PROV</th>\n",
              "      <th>PAD_1_COD_CCAA</th>\n",
              "      <th>Shape__Area</th>\n",
              "      <th>Shape__Length</th>\n",
              "      <th>Codigop</th>\n",
              "    </tr>\n",
              "  </thead>\n",
              "  <tbody>\n",
              "    <tr>\n",
              "      <th>0</th>\n",
              "      <td>1</td>\n",
              "      <td>1001</td>\n",
              "      <td>Alegría-Dulantzi</td>\n",
              "      <td>1</td>\n",
              "      <td>16</td>\n",
              "      <td>184.0</td>\n",
              "      <td>2856.0</td>\n",
              "      <td>Araba/Álava</td>\n",
              "      <td>16.0</td>\n",
              "      <td>3.709269e+07</td>\n",
              "      <td>48191.568537</td>\n",
              "      <td>1.0</td>\n",
              "    </tr>\n",
              "    <tr>\n",
              "      <th>1</th>\n",
              "      <td>2</td>\n",
              "      <td>1002</td>\n",
              "      <td>Amurrio</td>\n",
              "      <td>1</td>\n",
              "      <td>16</td>\n",
              "      <td>766.0</td>\n",
              "      <td>10260.0</td>\n",
              "      <td>Araba/Álava</td>\n",
              "      <td>16.0</td>\n",
              "      <td>1.799114e+08</td>\n",
              "      <td>90623.621986</td>\n",
              "      <td>1.0</td>\n",
              "    </tr>\n",
              "    <tr>\n",
              "      <th>2</th>\n",
              "      <td>3</td>\n",
              "      <td>1003</td>\n",
              "      <td>Aramaio</td>\n",
              "      <td>1</td>\n",
              "      <td>16</td>\n",
              "      <td>18.0</td>\n",
              "      <td>1502.0</td>\n",
              "      <td>Araba/Álava</td>\n",
              "      <td>16.0</td>\n",
              "      <td>1.377066e+08</td>\n",
              "      <td>58592.914048</td>\n",
              "      <td>1.0</td>\n",
              "    </tr>\n",
              "    <tr>\n",
              "      <th>3</th>\n",
              "      <td>4</td>\n",
              "      <td>1004</td>\n",
              "      <td>Artziniega</td>\n",
              "      <td>1</td>\n",
              "      <td>16</td>\n",
              "      <td>110.0</td>\n",
              "      <td>1840.0</td>\n",
              "      <td>Araba/Álava</td>\n",
              "      <td>16.0</td>\n",
              "      <td>5.130078e+07</td>\n",
              "      <td>31498.524044</td>\n",
              "      <td>1.0</td>\n",
              "    </tr>\n",
              "    <tr>\n",
              "      <th>4</th>\n",
              "      <td>5</td>\n",
              "      <td>1006</td>\n",
              "      <td>Armiñón</td>\n",
              "      <td>1</td>\n",
              "      <td>16</td>\n",
              "      <td>12.0</td>\n",
              "      <td>234.0</td>\n",
              "      <td>Araba/Álava</td>\n",
              "      <td>16.0</td>\n",
              "      <td>2.380288e+07</td>\n",
              "      <td>33293.805036</td>\n",
              "      <td>1.0</td>\n",
              "    </tr>\n",
              "  </tbody>\n",
              "</table>\n",
              "</div>"
            ],
            "text/plain": [
              "   OBJECTID  Codigo             Texto  Cod_Prov  Cod_CCAA  \\\n",
              "0         1    1001  Alegría-Dulantzi         1        16   \n",
              "1         2    1002           Amurrio         1        16   \n",
              "2         3    1003           Aramaio         1        16   \n",
              "3         4    1004        Artziniega         1        16   \n",
              "4         5    1006           Armiñón         1        16   \n",
              "\n",
              "   TotalParoRegistrado  PAD_1C02 PAD_1_COD_PROV  PAD_1_COD_CCAA   Shape__Area  \\\n",
              "0                184.0    2856.0    Araba/Álava            16.0  3.709269e+07   \n",
              "1                766.0   10260.0    Araba/Álava            16.0  1.799114e+08   \n",
              "2                 18.0    1502.0    Araba/Álava            16.0  1.377066e+08   \n",
              "3                110.0    1840.0    Araba/Álava            16.0  5.130078e+07   \n",
              "4                 12.0     234.0    Araba/Álava            16.0  2.380288e+07   \n",
              "\n",
              "   Shape__Length  Codigop  \n",
              "0   48191.568537      1.0  \n",
              "1   90623.621986      1.0  \n",
              "2   58592.914048      1.0  \n",
              "3   31498.524044      1.0  \n",
              "4   33293.805036      1.0  "
            ]
          },
          "execution_count": 4,
          "metadata": {},
          "output_type": "execute_result"
        }
      ],
      "source": [
        "df.head()"
      ]
    },
    {
      "cell_type": "markdown",
      "metadata": {
        "id": "nUAJIeEhXWIS"
      },
      "source": [
        "Generalmente cuando en un dataset encontramos campos de texto es recomendable analizar si la carga se hizo con un buen criterio y no hay errores en la carga. Vamos a prestar atención a los campos Texto y PAD_1_COD_PROV."
      ]
    },
    {
      "cell_type": "code",
      "execution_count": null,
      "metadata": {
        "id": "dL0vyjRfXWIT",
        "outputId": "79fb20f4-7af9-47ce-b9f4-8683eed3126e"
      },
      "outputs": [
        {
          "data": {
            "text/plain": [
              "0    Alegría-Dulantzi\n",
              "1             Amurrio\n",
              "2             Aramaio\n",
              "3          Artziniega\n",
              "4             Armiñón\n",
              "Name: Texto, dtype: object"
            ]
          },
          "execution_count": 5,
          "metadata": {},
          "output_type": "execute_result"
        }
      ],
      "source": [
        "df[\"Texto\"].head()"
      ]
    },
    {
      "cell_type": "markdown",
      "metadata": {
        "id": "gZtlFP0VXWIU"
      },
      "source": [
        "Noten que el primer valor incluye un \"-\" como separador"
      ]
    },
    {
      "cell_type": "markdown",
      "metadata": {
        "id": "YZbiRBmRXWIV"
      },
      "source": [
        "Vamos a comenzar eliminando las filas que tienen null el campo Texto, para facilitar el análisis posterior."
      ]
    },
    {
      "cell_type": "code",
      "execution_count": null,
      "metadata": {
        "id": "-B3zKJiHXWIV"
      },
      "outputs": [],
      "source": [
        "df = df[~df[\"Texto\"].isnull()]"
      ]
    },
    {
      "cell_type": "markdown",
      "metadata": {
        "id": "-Vv5tFkJXWIV"
      },
      "source": [
        "## Pandas y Cadenas de caracteres\n",
        "\n",
        "Cuando una pd.Series es de tipo object Pandas permite acceder a métodos para operar sobre strings llamando al método **.str**."
      ]
    },
    {
      "cell_type": "markdown",
      "metadata": {
        "id": "nUW9Fz1pXWIW"
      },
      "source": [
        "### count\n",
        "\n",
        "El método **.str.count()** permite contar cuántas ocurrencias de un patrón hay en una Series. Para ello se puede pasar una regex. Las regex o expresiones regulares son una cadena de caracteres que define una búsqueda de un patrón. En esta clase no vamos a ahondar en regex pero sí podemos mencionar que:\n",
        "- Si pasamos un carácter en particular nos va a matchear cuántas veces aparece.\n",
        "- El carácter . funcion como comodín, con lo cual cualquier caracter va a matchear."
      ]
    },
    {
      "cell_type": "markdown",
      "metadata": {
        "id": "Dbw-78FZXWIW"
      },
      "source": [
        "Entonces, si queremos saber cuántas veces aparece el símbolo \"-\" en cada término podemos hacer:"
      ]
    },
    {
      "cell_type": "code",
      "execution_count": null,
      "metadata": {
        "id": "0vG42mcNXWIW",
        "outputId": "1d705fde-c466-4d1b-d9f8-47328a500e4d"
      },
      "outputs": [
        {
          "data": {
            "text/plain": [
              "0    1\n",
              "1    0\n",
              "2    0\n",
              "3    0\n",
              "4    0\n",
              "Name: Texto, dtype: int64"
            ]
          },
          "execution_count": 7,
          "metadata": {},
          "output_type": "execute_result"
        }
      ],
      "source": [
        "df[\"Texto\"].str.count(\"-\").head()"
      ]
    },
    {
      "cell_type": "markdown",
      "metadata": {
        "id": "a333NahMXWIX"
      },
      "source": [
        "Ahora, nos llama la atención que el símbolo \"-\" aparece en la primera fila, ¿será algo común?"
      ]
    },
    {
      "cell_type": "code",
      "execution_count": null,
      "metadata": {
        "id": "AZZUGtC2XWIX",
        "outputId": "41ebf24e-2ad2-4477-a787-622155460381"
      },
      "outputs": [
        {
          "data": {
            "text/plain": [
              "0    16009\n",
              "1      222\n",
              "2        4\n",
              "Name: Texto, dtype: int64"
            ]
          },
          "execution_count": 8,
          "metadata": {},
          "output_type": "execute_result"
        }
      ],
      "source": [
        "df[\"Texto\"].str.count(\"-\").value_counts()"
      ]
    },
    {
      "cell_type": "markdown",
      "metadata": {
        "id": "Rfe7EP13XWIX"
      },
      "source": [
        "### Ejercicio\n",
        "\n",
        "1- Ver los casos que tiene 2 \"-\" en el nombre."
      ]
    },
    {
      "cell_type": "code",
      "execution_count": null,
      "metadata": {
        "id": "7sxQWDExXWIY",
        "outputId": "498e604b-667e-440f-9002-847576ba974a"
      },
      "outputs": [
        {
          "data": {
            "text/plain": [
              "4460     Lozoyuela-Navas-Sieteiglesias\n",
              "4809          Oroz-Betelu/Orotz-Betelu\n",
              "12630    Lozoyuela-Navas-Sieteiglesias\n",
              "12979         Oroz-Betelu/Orotz-Betelu\n",
              "Name: Texto, dtype: object"
            ]
          },
          "execution_count": 9,
          "metadata": {},
          "output_type": "execute_result"
        }
      ],
      "source": [
        "df[\"Texto\"][df[\"Texto\"].str.count(\"-\") == 2]"
      ]
    },
    {
      "cell_type": "markdown",
      "metadata": {
        "id": "Afkj_-i4XWIY"
      },
      "source": [
        "2- Graficar un histograma con la cantidad de caracteres en la columna Texto usando contains. Tip: pueden usar el método .hist."
      ]
    },
    {
      "cell_type": "code",
      "execution_count": null,
      "metadata": {
        "id": "MiFOQfLuXWIY"
      },
      "outputs": [],
      "source": [
        "import matplotlib.pyplot as plt\n",
        "%matplotlib inline"
      ]
    },
    {
      "cell_type": "code",
      "execution_count": null,
      "metadata": {
        "id": "jzWHZ3BNXWIZ",
        "outputId": "c97db607-0ac9-4e91-e6d1-8fc0523b5677"
      },
      "outputs": [
        {
          "data": {
            "text/plain": [
              "<AxesSubplot:>"
            ]
          },
          "execution_count": 11,
          "metadata": {},
          "output_type": "execute_result"
        },
        {
          "data": {
            "image/png": "[encoded data removed]",
            "text/plain": [
              "<Figure size 432x288 with 1 Axes>"
            ]
          },
          "metadata": {
            "needs_background": "light"
          },
          "output_type": "display_data"
        }
      ],
      "source": [
        "df[\"Texto\"].str.count(\".\").hist(bins=20)"
      ]
    },
    {
      "cell_type": "markdown",
      "metadata": {
        "id": "rKlV3VOgXWIZ"
      },
      "source": [
        "3- Mostrar que el resultado obtenido en el ejercicio anterior equivale a aplicar **.str.len()**. Para ello usen el método **pd.Series.equals()** y comparen el método usado en el ejercicio anterior con aplicar .str.len()"
      ]
    },
    {
      "cell_type": "code",
      "execution_count": null,
      "metadata": {
        "id": "JLv6VjIdXWIZ",
        "outputId": "95d47e81-788f-4827-fbc2-27eee5b6cb21"
      },
      "outputs": [
        {
          "data": {
            "text/plain": [
              "True"
            ]
          },
          "execution_count": 12,
          "metadata": {},
          "output_type": "execute_result"
        }
      ],
      "source": [
        "df[\"Texto\"].str.count(\".\").equals(df[\"Texto\"].str.len())"
      ]
    },
    {
      "cell_type": "markdown",
      "metadata": {
        "id": "mIWreHzTXWIa"
      },
      "source": [
        "### contains"
      ]
    },
    {
      "cell_type": "markdown",
      "metadata": {
        "id": "MWSo7rZfXWIa"
      },
      "source": [
        "Digamos que queremos encontrar nombres de ciudades vascas. Para ello sabemos que \"herri\" en Euskera significa lugar, con lo que esperamos encontrar \"erri\" en una gran cantidad de ciudades. Vamos a filtrar trayendo solamente las ciudades que incluyen \"erri\" dentro de su nombre con el método **.str.contains**."
      ]
    },
    {
      "cell_type": "code",
      "execution_count": null,
      "metadata": {
        "id": "YaRqfUygXWIa",
        "outputId": "f4e0afdd-746d-4602-af2b-b19bb84345cc"
      },
      "outputs": [
        {
          "data": {
            "text/html": [
              "<div>\n",
              "<style scoped>\n",
              "    .dataframe tbody tr th:only-of-type {\n",
              "        vertical-align: middle;\n",
              "    }\n",
              "\n",
              "    .dataframe tbody tr th {\n",
              "        vertical-align: top;\n",
              "    }\n",
              "\n",
              "    .dataframe thead th {\n",
              "        text-align: right;\n",
              "    }\n",
              "</style>\n",
              "<table border=\"1\" class=\"dataframe\">\n",
              "  <thead>\n",
              "    <tr style=\"text-align: right;\">\n",
              "      <th></th>\n",
              "      <th>OBJECTID</th>\n",
              "      <th>Codigo</th>\n",
              "      <th>Texto</th>\n",
              "      <th>Cod_Prov</th>\n",
              "      <th>Cod_CCAA</th>\n",
              "      <th>TotalParoRegistrado</th>\n",
              "      <th>PAD_1C02</th>\n",
              "      <th>PAD_1_COD_PROV</th>\n",
              "      <th>PAD_1_COD_CCAA</th>\n",
              "      <th>Shape__Area</th>\n",
              "      <th>Shape__Length</th>\n",
              "      <th>Codigop</th>\n",
              "    </tr>\n",
              "  </thead>\n",
              "  <tbody>\n",
              "    <tr>\n",
              "      <th>33</th>\n",
              "      <td>34</td>\n",
              "      <td>1046</td>\n",
              "      <td>Erriberagoitia/Ribera Alta</td>\n",
              "      <td>1</td>\n",
              "      <td>16</td>\n",
              "      <td>26.0</td>\n",
              "      <td>745.0</td>\n",
              "      <td>Araba/Álava</td>\n",
              "      <td>16.0</td>\n",
              "      <td>2.227260e+08</td>\n",
              "      <td>114217.030007</td>\n",
              "      <td>1.0</td>\n",
              "    </tr>\n",
              "    <tr>\n",
              "      <th>34</th>\n",
              "      <td>35</td>\n",
              "      <td>1047</td>\n",
              "      <td>Ribera Baja/Erribera Beitia</td>\n",
              "      <td>1</td>\n",
              "      <td>16</td>\n",
              "      <td>72.0</td>\n",
              "      <td>1353.0</td>\n",
              "      <td>Araba/Álava</td>\n",
              "      <td>16.0</td>\n",
              "      <td>4.706702e+07</td>\n",
              "      <td>42082.113185</td>\n",
              "      <td>1.0</td>\n",
              "    </tr>\n",
              "    <tr>\n",
              "      <th>162</th>\n",
              "      <td>163</td>\n",
              "      <td>3025</td>\n",
              "      <td>Benferri</td>\n",
              "      <td>3</td>\n",
              "      <td>10</td>\n",
              "      <td>161.0</td>\n",
              "      <td>1920.0</td>\n",
              "      <td>Alicante/Alacant</td>\n",
              "      <td>10.0</td>\n",
              "      <td>2.002354e+07</td>\n",
              "      <td>21212.706211</td>\n",
              "      <td>3.0</td>\n",
              "    </tr>\n",
              "    <tr>\n",
              "      <th>2026</th>\n",
              "      <td>2027</td>\n",
              "      <td>13081</td>\n",
              "      <td>Terrinches</td>\n",
              "      <td>13</td>\n",
              "      <td>8</td>\n",
              "      <td>122.0</td>\n",
              "      <td>748.0</td>\n",
              "      <td>Ciudad Real</td>\n",
              "      <td>8.0</td>\n",
              "      <td>9.099513e+07</td>\n",
              "      <td>41739.202048</td>\n",
              "      <td>13.0</td>\n",
              "    </tr>\n",
              "    <tr>\n",
              "      <th>2506</th>\n",
              "      <td>2507</td>\n",
              "      <td>17056</td>\n",
              "      <td>Cornellà del Terri</td>\n",
              "      <td>17</td>\n",
              "      <td>9</td>\n",
              "      <td>55.0</td>\n",
              "      <td>2279.0</td>\n",
              "      <td>Girona</td>\n",
              "      <td>9.0</td>\n",
              "      <td>5.058085e+07</td>\n",
              "      <td>38058.585347</td>\n",
              "      <td>17.0</td>\n",
              "    </tr>\n",
              "  </tbody>\n",
              "</table>\n",
              "</div>"
            ],
            "text/plain": [
              "      OBJECTID  Codigo                        Texto  Cod_Prov  Cod_CCAA  \\\n",
              "33          34    1046   Erriberagoitia/Ribera Alta         1        16   \n",
              "34          35    1047  Ribera Baja/Erribera Beitia         1        16   \n",
              "162        163    3025                     Benferri         3        10   \n",
              "2026      2027   13081                   Terrinches        13         8   \n",
              "2506      2507   17056           Cornellà del Terri        17         9   \n",
              "\n",
              "      TotalParoRegistrado  PAD_1C02    PAD_1_COD_PROV  PAD_1_COD_CCAA  \\\n",
              "33                   26.0     745.0       Araba/Álava            16.0   \n",
              "34                   72.0    1353.0       Araba/Álava            16.0   \n",
              "162                 161.0    1920.0  Alicante/Alacant            10.0   \n",
              "2026                122.0     748.0       Ciudad Real             8.0   \n",
              "2506                 55.0    2279.0            Girona             9.0   \n",
              "\n",
              "       Shape__Area  Shape__Length  Codigop  \n",
              "33    2.227260e+08  114217.030007      1.0  \n",
              "34    4.706702e+07   42082.113185      1.0  \n",
              "162   2.002354e+07   21212.706211      3.0  \n",
              "2026  9.099513e+07   41739.202048     13.0  \n",
              "2506  5.058085e+07   38058.585347     17.0  "
            ]
          },
          "execution_count": 13,
          "metadata": {},
          "output_type": "execute_result"
        }
      ],
      "source": [
        "df[df[\"Texto\"].str.contains(\"erri\",case=False)].head() # case es para considerar mayúsculas y minúsculas o no"
      ]
    },
    {
      "cell_type": "code",
      "execution_count": null,
      "metadata": {
        "id": "xtNomYjPXWIb",
        "outputId": "f17a5f29-68a9-40ca-8769-9aa2f492fc20"
      },
      "outputs": [
        {
          "data": {
            "text/plain": [
              "(48, 12)"
            ]
          },
          "execution_count": 14,
          "metadata": {},
          "output_type": "execute_result"
        }
      ],
      "source": [
        "df[df[\"Texto\"].str.contains(\"erri\",case=False)].shape"
      ]
    },
    {
      "cell_type": "markdown",
      "metadata": {
        "id": "yd4rZU1HXWIc"
      },
      "source": [
        "### lower, upper y title"
      ]
    },
    {
      "cell_type": "markdown",
      "metadata": {
        "id": "Xx2WkxWSXWIc"
      },
      "source": [
        "Supongamos que queremos estar seguros que las nombres están estandarizados... podemos elegir pasar todo a minúscula o a mayúscula de la siguiente manera:"
      ]
    },
    {
      "cell_type": "code",
      "execution_count": null,
      "metadata": {
        "id": "R7KTIM3cXWId",
        "outputId": "aa23b5bd-de04-4139-a49d-d76405e8468d"
      },
      "outputs": [
        {
          "data": {
            "text/plain": [
              "0    alegría-dulantzi\n",
              "1             amurrio\n",
              "2             aramaio\n",
              "3          artziniega\n",
              "4             armiñón\n",
              "Name: Texto, dtype: object"
            ]
          },
          "execution_count": 15,
          "metadata": {},
          "output_type": "execute_result"
        }
      ],
      "source": [
        "df[\"Texto\"].str.lower().head()"
      ]
    },
    {
      "cell_type": "code",
      "execution_count": null,
      "metadata": {
        "id": "tuAhGNYrXWId",
        "outputId": "3a438ec5-d74e-46c3-fae6-cf93d0532e68"
      },
      "outputs": [
        {
          "data": {
            "text/plain": [
              "0    ALEGRÍA-DULANTZI\n",
              "1             AMURRIO\n",
              "2             ARAMAIO\n",
              "3          ARTZINIEGA\n",
              "4             ARMIÑÓN\n",
              "Name: Texto, dtype: object"
            ]
          },
          "execution_count": 16,
          "metadata": {},
          "output_type": "execute_result"
        }
      ],
      "source": [
        "df[\"Texto\"].str.upper().head()"
      ]
    },
    {
      "cell_type": "markdown",
      "metadata": {
        "id": "E2_Acgh6XWIe"
      },
      "source": [
        "También podemos aplicar mayúscula a la primera letra y al resto minúscula, con **.str.title**. Este método toma en consideración espacios o símbolos no alfabéticos. Es decir, va a comenzar con mayúscula los términos después de un espacio, \"-\" o \"/\". Por ejemplo"
      ]
    },
    {
      "cell_type": "code",
      "execution_count": null,
      "metadata": {
        "id": "SkcRL-hUXWIe",
        "outputId": "68d6fda4-c92b-46e5-e519-8a31ac70492d"
      },
      "outputs": [
        {
          "data": {
            "text/plain": [
              "4460     Lozoyuela-Navas-Sieteiglesias\n",
              "4809          Oroz-Betelu/Orotz-Betelu\n",
              "12630    Lozoyuela-Navas-Sieteiglesias\n",
              "12979         Oroz-Betelu/Orotz-Betelu\n",
              "Name: Texto, dtype: object"
            ]
          },
          "execution_count": 17,
          "metadata": {},
          "output_type": "execute_result"
        }
      ],
      "source": [
        "df[\"Texto\"][df[\"Texto\"].str.count(\"-\") == 2].str.title()"
      ]
    },
    {
      "cell_type": "markdown",
      "metadata": {
        "id": "57exv_ABXWIe"
      },
      "source": [
        "### split"
      ]
    },
    {
      "cell_type": "markdown",
      "metadata": {
        "id": "gLI_24YAXWIe"
      },
      "source": [
        "En el ejemplo anterior encontramos el uso de \"/\". En este caso se refiere a que el nombre de la ciudad (Oroz-Betelu/Orotz-Betelu) tiene dos nombres oficiales, uno en español y otro en vasco.\n",
        "\n",
        "Supongamos que queremos estandarizar el problema y quedarnos sólo con el nombre que aparece primero, ¿cómo podemos hacerlo?"
      ]
    },
    {
      "cell_type": "markdown",
      "metadata": {
        "id": "CbR6v-PXXWIf"
      },
      "source": [
        "Primero veamos algunos ejemplos otros ejemplos de nombres con \"/\":"
      ]
    },
    {
      "cell_type": "code",
      "execution_count": null,
      "metadata": {
        "id": "gK1Dz4rLXWIs",
        "outputId": "13165888-d991-4a0f-ee3f-b517c0c2447f"
      },
      "outputs": [
        {
          "data": {
            "text/plain": [
              "array(['Ayala/Aiara', 'Baños de Ebro/Mañueta', 'Campezo/Kanpezu',\n",
              "       'Elburgo/Burgelu', 'Elvillar/Bilar', 'Labastida/Bastida',\n",
              "       'Lanciego/Lantziego', 'Laudio/Llodio',\n",
              "       'Moreda de Álava/Moreda Araba', 'Erriberagoitia/Ribera Alta'],\n",
              "      dtype=object)"
            ]
          },
          "execution_count": 18,
          "metadata": {},
          "output_type": "execute_result"
        }
      ],
      "source": [
        "df[\"Texto\"][df[\"Texto\"].str.count(\"/\") > 0].unique()[:10]"
      ]
    },
    {
      "cell_type": "markdown",
      "metadata": {
        "id": "bIvOkrpjXWIt"
      },
      "source": [
        "Nota: en un primer momento uno podría pensar que en este dataset el primer elemento debería ser siempre el nombre en, por ejemplo, español y el segundo en vasco... Sin embargo, no es así :-S\n",
        "\n",
        "Vamos a usar **.str.split()**, vale la pena mencionar que el método devuelve una lista con un elemento por cada separación que pudo realizar. Para ello recibe como parámetro un string que es un patrón que va a usar, justamente, para dividir la cadena de caracteres. Comúnmente sólo vamos a pasarle un elemento por el cual splitear."
      ]
    },
    {
      "cell_type": "code",
      "execution_count": null,
      "metadata": {
        "id": "vmv3UfR3XWIu",
        "outputId": "d94ce2f1-0775-458f-9702-8b39edba5ce8"
      },
      "outputs": [
        {
          "data": {
            "text/plain": [
              "0               [Alegría-Dulantzi]\n",
              "1                        [Amurrio]\n",
              "2                        [Aramaio]\n",
              "3                     [Artziniega]\n",
              "4                        [Armiñón]\n",
              "                   ...            \n",
              "16334                       [Biel]\n",
              "16335                   [Marracos]\n",
              "16336    [Villamayor, de, Gállego]\n",
              "16337                      [Ceuta]\n",
              "16338                    [Melilla]\n",
              "Name: Texto, Length: 16235, dtype: object"
            ]
          },
          "execution_count": 19,
          "metadata": {},
          "output_type": "execute_result"
        }
      ],
      "source": [
        "df[\"Texto\"].str.split() # por default split separa por espacios en blanco"
      ]
    },
    {
      "cell_type": "markdown",
      "metadata": {
        "id": "RgyDBuGPXWIu"
      },
      "source": [
        "Noten en el ejemplo anterior que si devuelve una lista con un solo elemento es que no matcheó y, por lo tanto, no dividió el string."
      ]
    },
    {
      "cell_type": "markdown",
      "metadata": {
        "id": "zXfS4vXsXWIu"
      },
      "source": [
        "Yendo a nuestro problema, separamos por el caracter '/'. Notar como se transforman los nombres compuestos\n",
        "MUCHO CUIDADO! Nuestros strings ahora son listas!! :o"
      ]
    },
    {
      "cell_type": "code",
      "execution_count": null,
      "metadata": {
        "id": "ppWjxWq8XWIu",
        "outputId": "0acc4332-caeb-4d31-c79e-6f898c09d0cc"
      },
      "outputs": [
        {
          "data": {
            "text/plain": [
              "0    [Alegría-Dulantzi]\n",
              "1             [Amurrio]\n",
              "2             [Aramaio]\n",
              "3          [Artziniega]\n",
              "4             [Armiñón]\n",
              "Name: Texto, dtype: object"
            ]
          },
          "execution_count": 20,
          "metadata": {},
          "output_type": "execute_result"
        }
      ],
      "source": [
        "df[\"Texto\"].str.split(\"/\").head()"
      ]
    },
    {
      "cell_type": "markdown",
      "metadata": {
        "id": "0sopGZ9lXWIv"
      },
      "source": [
        "Entonces, nos quedamos con la primera versión del nombre al separar por \"/\""
      ]
    },
    {
      "cell_type": "code",
      "execution_count": null,
      "metadata": {
        "id": "DHfNju2wXWIv",
        "outputId": "c4fb98e6-f21a-47ef-9d43-1d870e28e53f"
      },
      "outputs": [
        {
          "data": {
            "text/plain": [
              "7                   Ayala\n",
              "8           Baños de Ebro\n",
              "12                Campezo\n",
              "16                Elburgo\n",
              "18               Elvillar\n",
              "               ...       \n",
              "15372              Novelé\n",
              "15412             Sagunto\n",
              "15447          Vilallonga\n",
              "15705    Karrantza Harana\n",
              "15757              Urduña\n",
              "Name: Texto, Length: 234, dtype: object"
            ]
          },
          "execution_count": 21,
          "metadata": {},
          "output_type": "execute_result"
        }
      ],
      "source": [
        "texto_para_split = df[\"Texto\"][df[\"Texto\"].str.count(\"/\") > 0] # guardo en una variable casos con /\n",
        "\n",
        "texto_para_split.str.split(\"/\").apply(lambda x: x[0]) # para indexar las listas tengo que usar apply"
      ]
    },
    {
      "cell_type": "markdown",
      "metadata": {
        "id": "-BVkhJisXWIv"
      },
      "source": [
        "Por otra parte, si quisiéramos guardar cada nombre en una columna separada podemos hacerlo usando la opción expand:"
      ]
    },
    {
      "cell_type": "code",
      "execution_count": null,
      "metadata": {
        "id": "sx_P1X-NXWIv",
        "outputId": "fa72e216-75f1-4601-bfc5-225755fbb784"
      },
      "outputs": [
        {
          "data": {
            "text/html": [
              "<div>\n",
              "<style scoped>\n",
              "    .dataframe tbody tr th:only-of-type {\n",
              "        vertical-align: middle;\n",
              "    }\n",
              "\n",
              "    .dataframe tbody tr th {\n",
              "        vertical-align: top;\n",
              "    }\n",
              "\n",
              "    .dataframe thead th {\n",
              "        text-align: right;\n",
              "    }\n",
              "</style>\n",
              "<table border=\"1\" class=\"dataframe\">\n",
              "  <thead>\n",
              "    <tr style=\"text-align: right;\">\n",
              "      <th></th>\n",
              "      <th>0</th>\n",
              "      <th>1</th>\n",
              "    </tr>\n",
              "  </thead>\n",
              "  <tbody>\n",
              "    <tr>\n",
              "      <th>7</th>\n",
              "      <td>Ayala</td>\n",
              "      <td>Aiara</td>\n",
              "    </tr>\n",
              "    <tr>\n",
              "      <th>8</th>\n",
              "      <td>Baños de Ebro</td>\n",
              "      <td>Mañueta</td>\n",
              "    </tr>\n",
              "    <tr>\n",
              "      <th>12</th>\n",
              "      <td>Campezo</td>\n",
              "      <td>Kanpezu</td>\n",
              "    </tr>\n",
              "    <tr>\n",
              "      <th>16</th>\n",
              "      <td>Elburgo</td>\n",
              "      <td>Burgelu</td>\n",
              "    </tr>\n",
              "    <tr>\n",
              "      <th>18</th>\n",
              "      <td>Elvillar</td>\n",
              "      <td>Bilar</td>\n",
              "    </tr>\n",
              "    <tr>\n",
              "      <th>...</th>\n",
              "      <td>...</td>\n",
              "      <td>...</td>\n",
              "    </tr>\n",
              "    <tr>\n",
              "      <th>15372</th>\n",
              "      <td>Novelé</td>\n",
              "      <td>Novetlè</td>\n",
              "    </tr>\n",
              "    <tr>\n",
              "      <th>15412</th>\n",
              "      <td>Sagunto</td>\n",
              "      <td>Sagunt</td>\n",
              "    </tr>\n",
              "    <tr>\n",
              "      <th>15447</th>\n",
              "      <td>Vilallonga</td>\n",
              "      <td>Villalonga</td>\n",
              "    </tr>\n",
              "    <tr>\n",
              "      <th>15705</th>\n",
              "      <td>Karrantza Harana</td>\n",
              "      <td>Valle de Carranza</td>\n",
              "    </tr>\n",
              "    <tr>\n",
              "      <th>15757</th>\n",
              "      <td>Urduña</td>\n",
              "      <td>Orduña</td>\n",
              "    </tr>\n",
              "  </tbody>\n",
              "</table>\n",
              "<p>234 rows × 2 columns</p>\n",
              "</div>"
            ],
            "text/plain": [
              "                      0                  1\n",
              "7                 Ayala              Aiara\n",
              "8         Baños de Ebro            Mañueta\n",
              "12              Campezo            Kanpezu\n",
              "16              Elburgo            Burgelu\n",
              "18             Elvillar              Bilar\n",
              "...                 ...                ...\n",
              "15372            Novelé            Novetlè\n",
              "15412           Sagunto             Sagunt\n",
              "15447        Vilallonga         Villalonga\n",
              "15705  Karrantza Harana  Valle de Carranza\n",
              "15757            Urduña             Orduña\n",
              "\n",
              "[234 rows x 2 columns]"
            ]
          },
          "execution_count": 22,
          "metadata": {},
          "output_type": "execute_result"
        }
      ],
      "source": [
        "texto_para_split.str.split(\"/\", expand=True)"
      ]
    },
    {
      "cell_type": "markdown",
      "metadata": {
        "id": "XpAPc71PXWIw"
      },
      "source": [
        "Podemos asignar el resultado de expand de la siguiente manera:"
      ]
    },
    {
      "cell_type": "code",
      "execution_count": null,
      "metadata": {
        "id": "z6n0gDP9XWIw"
      },
      "outputs": [],
      "source": [
        "df[[\"nombre_1\", \"nombre_2\"]] = df[\"Texto\"].str.split(\"/\", expand=True) # usamos el df original y expandimos"
      ]
    },
    {
      "cell_type": "code",
      "execution_count": null,
      "metadata": {
        "id": "mw4Kr3sqXWIw",
        "outputId": "4eba9c87-752c-40cf-fe8d-fccfc7e26a00"
      },
      "outputs": [
        {
          "data": {
            "text/html": [
              "<div>\n",
              "<style scoped>\n",
              "    .dataframe tbody tr th:only-of-type {\n",
              "        vertical-align: middle;\n",
              "    }\n",
              "\n",
              "    .dataframe tbody tr th {\n",
              "        vertical-align: top;\n",
              "    }\n",
              "\n",
              "    .dataframe thead th {\n",
              "        text-align: right;\n",
              "    }\n",
              "</style>\n",
              "<table border=\"1\" class=\"dataframe\">\n",
              "  <thead>\n",
              "    <tr style=\"text-align: right;\">\n",
              "      <th></th>\n",
              "      <th>nombre_1</th>\n",
              "      <th>nombre_2</th>\n",
              "    </tr>\n",
              "  </thead>\n",
              "  <tbody>\n",
              "    <tr>\n",
              "      <th>0</th>\n",
              "      <td>Alegría-Dulantzi</td>\n",
              "      <td>None</td>\n",
              "    </tr>\n",
              "    <tr>\n",
              "      <th>1</th>\n",
              "      <td>Amurrio</td>\n",
              "      <td>None</td>\n",
              "    </tr>\n",
              "    <tr>\n",
              "      <th>2</th>\n",
              "      <td>Aramaio</td>\n",
              "      <td>None</td>\n",
              "    </tr>\n",
              "    <tr>\n",
              "      <th>3</th>\n",
              "      <td>Artziniega</td>\n",
              "      <td>None</td>\n",
              "    </tr>\n",
              "    <tr>\n",
              "      <th>4</th>\n",
              "      <td>Armiñón</td>\n",
              "      <td>None</td>\n",
              "    </tr>\n",
              "  </tbody>\n",
              "</table>\n",
              "</div>"
            ],
            "text/plain": [
              "           nombre_1 nombre_2\n",
              "0  Alegría-Dulantzi     None\n",
              "1           Amurrio     None\n",
              "2           Aramaio     None\n",
              "3        Artziniega     None\n",
              "4           Armiñón     None"
            ]
          },
          "execution_count": 24,
          "metadata": {},
          "output_type": "execute_result"
        }
      ],
      "source": [
        "df[[\"nombre_1\", \"nombre_2\"]].head() # vemos que hay nulls que nombre_2 porque tienen un solo nombre"
      ]
    },
    {
      "cell_type": "code",
      "execution_count": null,
      "metadata": {
        "id": "by7JDk3MXWIy",
        "outputId": "79fb7112-bcee-449d-8bd6-f258de141df2"
      },
      "outputs": [
        {
          "data": {
            "text/html": [
              "<div>\n",
              "<style scoped>\n",
              "    .dataframe tbody tr th:only-of-type {\n",
              "        vertical-align: middle;\n",
              "    }\n",
              "\n",
              "    .dataframe tbody tr th {\n",
              "        vertical-align: top;\n",
              "    }\n",
              "\n",
              "    .dataframe thead th {\n",
              "        text-align: right;\n",
              "    }\n",
              "</style>\n",
              "<table border=\"1\" class=\"dataframe\">\n",
              "  <thead>\n",
              "    <tr style=\"text-align: right;\">\n",
              "      <th></th>\n",
              "      <th>nombre_1</th>\n",
              "      <th>nombre_2</th>\n",
              "    </tr>\n",
              "  </thead>\n",
              "  <tbody>\n",
              "    <tr>\n",
              "      <th>7</th>\n",
              "      <td>Ayala</td>\n",
              "      <td>Aiara</td>\n",
              "    </tr>\n",
              "    <tr>\n",
              "      <th>8</th>\n",
              "      <td>Baños de Ebro</td>\n",
              "      <td>Mañueta</td>\n",
              "    </tr>\n",
              "    <tr>\n",
              "      <th>12</th>\n",
              "      <td>Campezo</td>\n",
              "      <td>Kanpezu</td>\n",
              "    </tr>\n",
              "    <tr>\n",
              "      <th>16</th>\n",
              "      <td>Elburgo</td>\n",
              "      <td>Burgelu</td>\n",
              "    </tr>\n",
              "    <tr>\n",
              "      <th>18</th>\n",
              "      <td>Elvillar</td>\n",
              "      <td>Bilar</td>\n",
              "    </tr>\n",
              "  </tbody>\n",
              "</table>\n",
              "</div>"
            ],
            "text/plain": [
              "         nombre_1 nombre_2\n",
              "7           Ayala    Aiara\n",
              "8   Baños de Ebro  Mañueta\n",
              "12        Campezo  Kanpezu\n",
              "16        Elburgo  Burgelu\n",
              "18       Elvillar    Bilar"
            ]
          },
          "execution_count": 25,
          "metadata": {},
          "output_type": "execute_result"
        }
      ],
      "source": [
        "df.loc[~df[\"nombre_2\"].isnull(), [\"nombre_1\", \"nombre_2\"]].head() # noten el filtro booleano"
      ]
    },
    {
      "cell_type": "markdown",
      "metadata": {
        "id": "fyaFZPSmXWI1"
      },
      "source": [
        "# ¿Cómo organizar la información? OLAP, OLTP y Tidy data\n",
        "\n",
        "Existen diversas formas de organizar la información. En general, qué vamos a hacer con la información es clave para entender cómo organizarla. Veamos algunos conceptos habituales a la hora de trabajar con datos."
      ]
    },
    {
      "cell_type": "markdown",
      "metadata": {
        "id": "uEp2ge3OXWI1"
      },
      "source": [
        "## OLTP y OLAP"
      ]
    },
    {
      "cell_type": "markdown",
      "metadata": {
        "id": "8-gh1RGGXWI1"
      },
      "source": [
        "La sigla OLTP viene de Online transaction processing y se refiere a transacciones que ocurren en tiempo real. Un ejemplo típico son los ATMs (automated teller machine), más conocidos como \"cajeros automáticos\".\n",
        "\n",
        "En este aspecto transacción tiene dos acepciones y ambas son válidas: por un lado, se procesan transacciones en término de bases de datos (que vamos a ver a continuación), por otro lado, se suele aplicar a transacciones económicas en donde se intercambian entidades económicas.\n",
        "\n",
        "Sistemas OLTP son la mayoría de los sistemas tradicionales que conocemos, especialmente los sistemas bancarios. Estos son sistemas transaccionales (en la primera acepción de arriba) porque intentan cumplir 4 objetivos (**ACID**):\n",
        "\n",
        "- Las transacciones son operaciones **atómicas**: se hacen por completo o no se hacen. Imagínense una transferencia bancaria, ésto requiere debitar en una cuenta y acreditar en otra. Si la operación no fuera atómica y fallara podríamos quedarnos en un estado inesperado en el cual se debite de la primera y no se acredite en la segunda. Para evitar ésto, la atomicidad garantiza que si la operación falla en alguna parte del proceso revertimos completamos la operación y no impactamos ningún cambio (hacemos *rollback*).\n",
        "\n",
        "- Toda transacción debe mantener la **consistencia** de la base de datos, es decir, debe respetar una serie de restricciones. Por ejemplo, podemos pensar que para que una tarjeta de crédito sea de extensión de una cuenta esa cuenta debe existir previamente. Otro ejemplo, puede ser que no pueden existir dos cuentas bancarias diferentes con el mismo número.\n",
        "\n",
        "- Además, los sistemas transaccionales (especialmente los sistemas OLTP) requieren garantizar el **aislamiento** de las operaciones. Es común que estos sistemas necesiten resolver miles de operaciones concurrentes (es decir, que suceden en simultáneo), el aislamiento consiste en que esas operaciones dejen en la base de datos el mismo estado que si las operaciones fueran secuenciales (es decir, una por vez). Incluso, si una de esas falla, no debería alterar el resultado.\n",
        "\n",
        "\n",
        "Para ésto, se implementan diferentes algoritmos a fin de asegurar que no se generen errores ni competencias entre usuarios que estan intentando acceder a los mismos registros a la vez."
      ]
    },
    {
      "cell_type": "markdown",
      "metadata": {
        "id": "fwSUOcVeXWI2"
      },
      "source": [
        "OLAP (Online Analytical Processing) por otra parte se refiere a todos los sistemas utilizados para analisis y reportes de negocios (Business Intelligence), en los cuales se realizan diferentes operaciones de agregacion sobre los datos, a fin de proveer a los usuarios con informacion relevante.\n",
        "\n",
        "Las herramientas OLAP permiten realizar análisis multidimensionales, tomando en consideración distintas dimensiones y métricas. En este sentido, está lo que se conoce como \"cubo OLAP\". El cubo OLAP es un array multidimensional que permite analizar la información vista desde distintos ángulos. Por ejemplo, podemos querer ver un reporte financiero por producto, por ciudad, por tiempo, etc. Cada uno de estos términos es una dimensión del análisis.\n",
        "\n",
        "Estos sistemas generalmente requieren procesos de carga y transformaciones masivas que pueden durar horas o días, y permiten presentan la información de un modo tal que el análisis es en tiempo real, no así la información que usa."
      ]
    },
    {
      "cell_type": "markdown",
      "metadata": {
        "id": "Ikwce-OjXWI2"
      },
      "source": [
        "## Tidy data"
      ]
    },
    {
      "cell_type": "markdown",
      "metadata": {
        "id": "F3x4Ppn8XWI3"
      },
      "source": [
        "**Tidy data** es un trabajo escrito por Hadley Wickham (de la empresa RStudio) que se ha difundido mucho, especialmente en la comunidad de R, sobre buenas prácticas a la hora de estructurar información tabular. Pueden consultar el trabajo acá: https://vita.had.co.nz/papers/tidy-data.pdf\n",
        "\n",
        "La información tabular consta de **filas** y **columnas**. Las columnas siempre tienen una etiqueta y las filas sólo a veces.\n",
        "\n",
        "Los *datasets* constan de **valores**, éstos pueden ser numéricos o no numéricos . En el caso en que sea un valor numérico representa una cantidad, si no es numérico es una cualidad. Además, los valores miden o caracterizan un determinado atributo (altura, peso, temperatura, etc.). Este atributo se conoce como **variable**. Por último, esa variable se corresponde con una determinada unidad observada. Generalmente llamamos a eso simplemente **observación** (por ejemplo, la persona a la que se le midió la altura).\n",
        "\n",
        "Dicho ésto, Wickham define un dataset *tidy* u ordenado como aquel que cumple la tercera forma normal de bases de datos, pero con un lenguaje más cercano al campo del análisis de datos y pensando en información contenida en una tabla, y no en una base de datos con muchas tablas. Las condiciones son:\n",
        "\n",
        "- Cada variable forma una columna.\n",
        "- Cada observación forma una fila.\n",
        "- Cada tipo de unidad observacional forma una tabla.\n",
        "\n",
        "Además, describe 5 de los errores más comunes a la hora de ordenar la información:\n",
        "\n",
        "- Los nombres de columna en vez de ser nombres de variables son valores\n",
        "- Muchas variables se guardan en una sola columna.\n",
        "- Las variables se guardan tanto en columnas como en filas.\n",
        "- Distintos tipos de unidades observacionales se guardan en una misma tabla.\n",
        "- Una única unidad observacional se almacena en distintas tablas.4"
      ]
    },
    {
      "cell_type": "markdown",
      "metadata": {
        "id": "DiDmdXssXWI3"
      },
      "source": [
        "### Tuberculosis\n",
        "\n",
        "A continuación vamos a ver un dataset de tuberculosis representado de distintas maneras..."
      ]
    },
    {
      "cell_type": "markdown",
      "metadata": {
        "id": "PWqRKOxSXWI3"
      },
      "source": [
        "#### Tabla 1\n",
        "\n",
        "En esta primera representación de la información vemos que una misma columna (type) contiene dos variables (cases y population)"
      ]
    },
    {
      "cell_type": "markdown",
      "metadata": {
        "id": "jKL_shO3XWI3"
      },
      "source": [
        "|country|year|type|count|\n",
        "| --- | --- | --- | --- |\n",
        "|Afghanistan|1999|cases|745|\n",
        "|Afghanistan|1999|population|19987071|\n",
        "|Afghanistan|2000|cases|2666|\n",
        "|Afghanistan|2000|population|20595360|\n",
        "|Brazil|1999|cases|37737|\n",
        "|Brazil|1999|population|172006362|"
      ]
    },
    {
      "cell_type": "markdown",
      "metadata": {
        "id": "PPrxFfCfXWI4"
      },
      "source": [
        "#### Tablas 2.a y 2.b\n",
        "En este caso separamos la tabla en dos tablas. Una donde vemosla población y otra donde vemos la cantidad de casos... ¿Cuál es el problema acá?\n",
        "\n",
        "Si bien ésto puede parecer correcto noten que la unidad observacional en realidad es un país en un año determinado... Con lo cual, lo que estamos haciendo acá es tener la misma unidad observacional en dos tablas. Además, los valores de la variable year están como nombres de columnas..."
      ]
    },
    {
      "cell_type": "markdown",
      "metadata": {
        "id": "vzW5CXP4XWI4"
      },
      "source": [
        "\n",
        "|country|1999|2000|\n",
        "| --- | --- | --- |\n",
        "|Afghanistan|745|2666|\n",
        "|Brazil|37737|80488|\n",
        "|China|212258|213766|"
      ]
    },
    {
      "cell_type": "markdown",
      "metadata": {
        "id": "pSg-2_ivXWI4"
      },
      "source": [
        "|country|1999|2000|\n",
        "| --- | --- | --- |\n",
        "|Afghanistan|19987071|20595360|\n",
        "|Brazil|172006362|174504898|\n",
        "|China|1272915272|1280428583|"
      ]
    },
    {
      "cell_type": "markdown",
      "metadata": {
        "id": "TJkMfJkhXWI5"
      },
      "source": [
        "#### Tabla 3\n",
        "\n",
        "En este caso, perdimos las variables cases y population y calculamos un ratio. Si bien ésto cumple con ser \"ordenado\" estamos perdiendo las variables originales."
      ]
    },
    {
      "cell_type": "markdown",
      "metadata": {
        "id": "TAo_KIKiXWI5"
      },
      "source": [
        "|country|year|rate|\n",
        "| --- | --- | --- |\n",
        "|Afghanistan|1999|745/19987071|\n",
        "|Afghanistan|2000|2666/20595360|\n",
        "|Brazil|1999|37737/172006362|\n",
        "|Brazil|2000|80488/174504898|\n",
        "|China|1999|212258/1272915272|\n",
        "|China|2000|213766/1280428583|"
      ]
    },
    {
      "cell_type": "markdown",
      "metadata": {
        "id": "OF3UmLJEXWI5"
      },
      "source": [
        "#### Tabla 4\n",
        "\n",
        "En la tabla 4 vemos que la variable *year*, *cases* y *population* se juntaron, con lo cual los valores de *year* pasan a formar parte de los nombres de las columnas."
      ]
    },
    {
      "cell_type": "markdown",
      "metadata": {
        "id": "bYM45KuWXWI5"
      },
      "source": [
        "|country|cases_1999|cases_2000|population_1999|population_2000|\n",
        "| --- | --- | --- | --- | --- |\n",
        "|Afghanistan|745|19987071|2666|20595360|\n",
        "|Brazil|37737|172006362|80488|174504898|\n",
        "|China|212258|1272915272|213766|1280428583|"
      ]
    },
    {
      "cell_type": "markdown",
      "metadata": {
        "id": "8sseFkUtXWI5"
      },
      "source": [
        "#### Tabla 5\n",
        "\n",
        "Finalmente, la tabla *tidy* es:"
      ]
    },
    {
      "cell_type": "markdown",
      "metadata": {
        "id": "G2Y8Oa0OXWI6"
      },
      "source": [
        "|country|year|cases|population|\n",
        "| --- | --- | --- | --- |\n",
        "|Afghanistan|1999|745|19987071|\n",
        "|Afghanistan|2000|2666|20595360|\n",
        "|Brazil|1999|37737|172006362|\n",
        "|Brazil|2000|80488|174504898|\n",
        "|China|1999|212258|1272915272|\n",
        "|China|2000|213766|1280428583|"
      ]
    },
    {
      "cell_type": "markdown",
      "metadata": {
        "id": "ax0uYcduXWI6"
      },
      "source": [
        "## Melt\n",
        "\n",
        "Una de los métodos más útiles de Pandas para pasar de un formato *wide* o *ancho* como el de la tabla 4 a uno *largo* como el de la tabla 5 es **.melt**.\n",
        "\n",
        "Para aplicar este método vamos a obtener un dataset de Billboard sobre las canciones mas escuchadas del 2000.\n",
        "\n",
        "Vamos a agregar la opcion de encoding para solucionar un problema con los caracteres usados."
      ]
    },
    {
      "cell_type": "code",
      "execution_count": null,
      "metadata": {
        "id": "Q0Yc61dUXWI6",
        "outputId": "fbe43a48-3e71-4dd8-97e9-9808df4832cc",
        "colab": {
          "base_uri": "https://localhost:8080/"
        }
      },
      "outputs": [
        {
          "output_type": "stream",
          "name": "stderr",
          "text": [
            "<ipython-input-2-7a31077c6e00>:1: FutureWarning: The error_bad_lines argument has been deprecated and will be removed in a future version. Use on_bad_lines in the future.\n",
            "\n",
            "\n",
            "  billboard = pd.read_csv('https://raw.githubusercontent.com/hadley/tidy-data/master/data/billboard.csv', warn_bad_lines=False, error_bad_lines=False, encoding='iso-8859-1')\n",
            "<ipython-input-2-7a31077c6e00>:1: FutureWarning: The warn_bad_lines argument has been deprecated and will be removed in a future version. Use on_bad_lines in the future.\n",
            "\n",
            "\n",
            "  billboard = pd.read_csv('https://raw.githubusercontent.com/hadley/tidy-data/master/data/billboard.csv', warn_bad_lines=False, error_bad_lines=False, encoding='iso-8859-1')\n"
          ]
        }
      ],
      "source": [
        "billboard = pd.read_csv('https://raw.githubusercontent.com/hadley/tidy-data/master/data/billboard.csv', warn_bad_lines=False, error_bad_lines=False, encoding='iso-8859-1')"
      ]
    },
    {
      "cell_type": "markdown",
      "metadata": {
        "id": "U9gEX4T5XWI6"
      },
      "source": [
        "### Ejercicios"
      ]
    },
    {
      "cell_type": "markdown",
      "metadata": {
        "id": "QPfBQs0NXWI7"
      },
      "source": [
        "1- Analicen el dataset, vean cuáles son las variables, qué es la observación. ¿Es necesario separarlo en dos tablas? Nota: lo que se está midiendo en las columnas x1st.week a x76th.week es la posición en el ranking de las 100 canciones más escuchadas en esa semana. Es decir, x1st.week es la posición en el ranking durante la primera semana que esa canción fue top 100."
      ]
    },
    {
      "cell_type": "markdown",
      "metadata": {
        "id": "fH0Ay_azXWI7"
      },
      "source": [
        "No es necesario separarlo en dos tablas porque el tipo de unidad observacional es el mismo, siempre es una canción en una semana determinada desde que entró al ranking top 100."
      ]
    },
    {
      "cell_type": "markdown",
      "metadata": {
        "id": "_zEyY-nrXWI7"
      },
      "source": [
        "2- ¿Por qué creen que hay tantas columnas con valores nulos?"
      ]
    },
    {
      "cell_type": "markdown",
      "metadata": {
        "id": "EUm6UOvjXWI7"
      },
      "source": [
        "Porque las canciones pueden salir del ranking top 100 antes de la semana 76."
      ]
    },
    {
      "cell_type": "markdown",
      "metadata": {
        "id": "dAJuR_2bXWI8"
      },
      "source": [
        "3- ¿Cómo podríamos hacer este dataset más ordenado? (no miren la continuación de la notebook :-S)"
      ]
    },
    {
      "cell_type": "markdown",
      "metadata": {
        "id": "Q1TTR4LsXWI8"
      },
      "source": [
        "Creando una columna semana que indique el número de semana y una columna ranking que nos diga la posición en el ranking en esa semana."
      ]
    },
    {
      "cell_type": "markdown",
      "metadata": {
        "id": "oe06fcESXWI8"
      },
      "source": [
        "Veamos primero como luce el dataset"
      ]
    },
    {
      "cell_type": "code",
      "execution_count": null,
      "metadata": {
        "id": "S4T2fdECXWI8",
        "outputId": "98ef938e-ce46-4c44-c4d4-e665b7be2310",
        "colab": {
          "base_uri": "https://localhost:8080/",
          "height": 360
        }
      },
      "outputs": [
        {
          "output_type": "execute_result",
          "data": {
            "text/plain": [
              "   year      artist.inverted                                  track  time  \\\n",
              "0  2000      Destiny's Child               Independent Women Part I  3:38   \n",
              "1  2000              Santana                           Maria, Maria  4:18   \n",
              "2  2000        Savage Garden                     I Knew I Loved You  4:07   \n",
              "3  2000              Madonna                                  Music  3:45   \n",
              "4  2000  Aguilera, Christina  Come On Over Baby (All I Want Is You)  3:38   \n",
              "\n",
              "  genre date.entered date.peaked  x1st.week  x2nd.week  x3rd.week  ...  \\\n",
              "0  Rock   2000-09-23  2000-11-18         78       63.0       49.0  ...   \n",
              "1  Rock   2000-02-12  2000-04-08         15        8.0        6.0  ...   \n",
              "2  Rock   1999-10-23  2000-01-29         71       48.0       43.0  ...   \n",
              "3  Rock   2000-08-12  2000-09-16         41       23.0       18.0  ...   \n",
              "4  Rock   2000-08-05  2000-10-14         57       47.0       45.0  ...   \n",
              "\n",
              "   x67th.week  x68th.week  x69th.week  x70th.week  x71st.week  x72nd.week  \\\n",
              "0         NaN         NaN         NaN         NaN         NaN         NaN   \n",
              "1         NaN         NaN         NaN         NaN         NaN         NaN   \n",
              "2         NaN         NaN         NaN         NaN         NaN         NaN   \n",
              "3         NaN         NaN         NaN         NaN         NaN         NaN   \n",
              "4         NaN         NaN         NaN         NaN         NaN         NaN   \n",
              "\n",
              "   x73rd.week  x74th.week  x75th.week  x76th.week  \n",
              "0         NaN         NaN         NaN         NaN  \n",
              "1         NaN         NaN         NaN         NaN  \n",
              "2         NaN         NaN         NaN         NaN  \n",
              "3         NaN         NaN         NaN         NaN  \n",
              "4         NaN         NaN         NaN         NaN  \n",
              "\n",
              "[5 rows x 83 columns]"
            ],
            "text/html": [
              "\n",
              "  <div id=\"df-d71e3bac-1d72-4f9b-af5e-ccc538b2cb03\" class=\"colab-df-container\">\n",
              "    <div>\n",
              "<style scoped>\n",
              "    .dataframe tbody tr th:only-of-type {\n",
              "        vertical-align: middle;\n",
              "    }\n",
              "\n",
              "    .dataframe tbody tr th {\n",
              "        vertical-align: top;\n",
              "    }\n",
              "\n",
              "    .dataframe thead th {\n",
              "        text-align: right;\n",
              "    }\n",
              "</style>\n",
              "<table border=\"1\" class=\"dataframe\">\n",
              "  <thead>\n",
              "    <tr style=\"text-align: right;\">\n",
              "      <th></th>\n",
              "      <th>year</th>\n",
              "      <th>artist.inverted</th>\n",
              "      <th>track</th>\n",
              "      <th>time</th>\n",
              "      <th>genre</th>\n",
              "      <th>date.entered</th>\n",
              "      <th>date.peaked</th>\n",
              "      <th>x1st.week</th>\n",
              "      <th>x2nd.week</th>\n",
              "      <th>x3rd.week</th>\n",
              "      <th>...</th>\n",
              "      <th>x67th.week</th>\n",
              "      <th>x68th.week</th>\n",
              "      <th>x69th.week</th>\n",
              "      <th>x70th.week</th>\n",
              "      <th>x71st.week</th>\n",
              "      <th>x72nd.week</th>\n",
              "      <th>x73rd.week</th>\n",
              "      <th>x74th.week</th>\n",
              "      <th>x75th.week</th>\n",
              "      <th>x76th.week</th>\n",
              "    </tr>\n",
              "  </thead>\n",
              "  <tbody>\n",
              "    <tr>\n",
              "      <th>0</th>\n",
              "      <td>2000</td>\n",
              "      <td>Destiny's Child</td>\n",
              "      <td>Independent Women Part I</td>\n",
              "      <td>3:38</td>\n",
              "      <td>Rock</td>\n",
              "      <td>2000-09-23</td>\n",
              "      <td>2000-11-18</td>\n",
              "      <td>78</td>\n",
              "      <td>63.0</td>\n",
              "      <td>49.0</td>\n",
              "      <td>...</td>\n",
              "      <td>NaN</td>\n",
              "      <td>NaN</td>\n",
              "      <td>NaN</td>\n",
              "      <td>NaN</td>\n",
              "      <td>NaN</td>\n",
              "      <td>NaN</td>\n",
              "      <td>NaN</td>\n",
              "      <td>NaN</td>\n",
              "      <td>NaN</td>\n",
              "      <td>NaN</td>\n",
              "    </tr>\n",
              "    <tr>\n",
              "      <th>1</th>\n",
              "      <td>2000</td>\n",
              "      <td>Santana</td>\n",
              "      <td>Maria, Maria</td>\n",
              "      <td>4:18</td>\n",
              "      <td>Rock</td>\n",
              "      <td>2000-02-12</td>\n",
              "      <td>2000-04-08</td>\n",
              "      <td>15</td>\n",
              "      <td>8.0</td>\n",
              "      <td>6.0</td>\n",
              "      <td>...</td>\n",
              "      <td>NaN</td>\n",
              "      <td>NaN</td>\n",
              "      <td>NaN</td>\n",
              "      <td>NaN</td>\n",
              "      <td>NaN</td>\n",
              "      <td>NaN</td>\n",
              "      <td>NaN</td>\n",
              "      <td>NaN</td>\n",
              "      <td>NaN</td>\n",
              "      <td>NaN</td>\n",
              "    </tr>\n",
              "    <tr>\n",
              "      <th>2</th>\n",
              "      <td>2000</td>\n",
              "      <td>Savage Garden</td>\n",
              "      <td>I Knew I Loved You</td>\n",
              "      <td>4:07</td>\n",
              "      <td>Rock</td>\n",
              "      <td>1999-10-23</td>\n",
              "      <td>2000-01-29</td>\n",
              "      <td>71</td>\n",
              "      <td>48.0</td>\n",
              "      <td>43.0</td>\n",
              "      <td>...</td>\n",
              "      <td>NaN</td>\n",
              "      <td>NaN</td>\n",
              "      <td>NaN</td>\n",
              "      <td>NaN</td>\n",
              "      <td>NaN</td>\n",
              "      <td>NaN</td>\n",
              "      <td>NaN</td>\n",
              "      <td>NaN</td>\n",
              "      <td>NaN</td>\n",
              "      <td>NaN</td>\n",
              "    </tr>\n",
              "    <tr>\n",
              "      <th>3</th>\n",
              "      <td>2000</td>\n",
              "      <td>Madonna</td>\n",
              "      <td>Music</td>\n",
              "      <td>3:45</td>\n",
              "      <td>Rock</td>\n",
              "      <td>2000-08-12</td>\n",
              "      <td>2000-09-16</td>\n",
              "      <td>41</td>\n",
              "      <td>23.0</td>\n",
              "      <td>18.0</td>\n",
              "      <td>...</td>\n",
              "      <td>NaN</td>\n",
              "      <td>NaN</td>\n",
              "      <td>NaN</td>\n",
              "      <td>NaN</td>\n",
              "      <td>NaN</td>\n",
              "      <td>NaN</td>\n",
              "      <td>NaN</td>\n",
              "      <td>NaN</td>\n",
              "      <td>NaN</td>\n",
              "      <td>NaN</td>\n",
              "    </tr>\n",
              "    <tr>\n",
              "      <th>4</th>\n",
              "      <td>2000</td>\n",
              "      <td>Aguilera, Christina</td>\n",
              "      <td>Come On Over Baby (All I Want Is You)</td>\n",
              "      <td>3:38</td>\n",
              "      <td>Rock</td>\n",
              "      <td>2000-08-05</td>\n",
              "      <td>2000-10-14</td>\n",
              "      <td>57</td>\n",
              "      <td>47.0</td>\n",
              "      <td>45.0</td>\n",
              "      <td>...</td>\n",
              "      <td>NaN</td>\n",
              "      <td>NaN</td>\n",
              "      <td>NaN</td>\n",
              "      <td>NaN</td>\n",
              "      <td>NaN</td>\n",
              "      <td>NaN</td>\n",
              "      <td>NaN</td>\n",
              "      <td>NaN</td>\n",
              "      <td>NaN</td>\n",
              "      <td>NaN</td>\n",
              "    </tr>\n",
              "  </tbody>\n",
              "</table>\n",
              "<p>5 rows × 83 columns</p>\n",
              "</div>\n",
              "    <div class=\"colab-df-buttons\">\n",
              "\n",
              "  <div class=\"colab-df-container\">\n",
              "    <button class=\"colab-df-convert\" onclick=\"convertToInteractive('df-d71e3bac-1d72-4f9b-af5e-ccc538b2cb03')\"\n",
              "            title=\"Convert this dataframe to an interactive table.\"\n",
              "            style=\"display:none;\">\n",
              "\n",
              "  <svg xmlns=\"http://www.w3.org/2000/svg\" height=\"24px\" viewBox=\"0 -960 960 960\">\n",
              "    <path d=\"M120-120v-720h720v720H120Zm60-500h600v-160H180v160Zm220 220h160v-160H400v160Zm0 220h160v-160H400v160ZM180-400h160v-160H180v160Zm440 0h160v-160H620v160ZM180-180h160v-160H180v160Zm440 0h160v-160H620v160Z\"/>\n",
              "  </svg>\n",
              "    </button>\n",
              "\n",
              "  <style>\n",
              "    .colab-df-container {\n",
              "      display:flex;\n",
              "      gap: 12px;\n",
              "    }\n",
              "\n",
              "    .colab-df-convert {\n",
              "      background-color: #E8F0FE;\n",
              "      border: none;\n",
              "      border-radius: 50%;\n",
              "      cursor: pointer;\n",
              "      display: none;\n",
              "      fill: #1967D2;\n",
              "      height: 32px;\n",
              "      padding: 0 0 0 0;\n",
              "      width: 32px;\n",
              "    }\n",
              "\n",
              "    .colab-df-convert:hover {\n",
              "      background-color: #E2EBFA;\n",
              "      box-shadow: 0px 1px 2px rgba(60, 64, 67, 0.3), 0px 1px 3px 1px rgba(60, 64, 67, 0.15);\n",
              "      fill: #174EA6;\n",
              "    }\n",
              "\n",
              "    .colab-df-buttons div {\n",
              "      margin-bottom: 4px;\n",
              "    }\n",
              "\n",
              "    [theme=dark] .colab-df-convert {\n",
              "      background-color: #3B4455;\n",
              "      fill: #D2E3FC;\n",
              "    }\n",
              "\n",
              "    [theme=dark] .colab-df-convert:hover {\n",
              "      background-color: #434B5C;\n",
              "      box-shadow: 0px 1px 3px 1px rgba(0, 0, 0, 0.15);\n",
              "      filter: drop-shadow(0px 1px 2px rgba(0, 0, 0, 0.3));\n",
              "      fill: #FFFFFF;\n",
              "    }\n",
              "  </style>\n",
              "\n",
              "    <script>\n",
              "      const buttonEl =\n",
              "        document.querySelector('#df-d71e3bac-1d72-4f9b-af5e-ccc538b2cb03 button.colab-df-convert');\n",
              "      buttonEl.style.display =\n",
              "        google.colab.kernel.accessAllowed ? 'block' : 'none';\n",
              "\n",
              "      async function convertToInteractive(key) {\n",
              "        const element = document.querySelector('#df-d71e3bac-1d72-4f9b-af5e-ccc538b2cb03');\n",
              "        const dataTable =\n",
              "          await google.colab.kernel.invokeFunction('convertToInteractive',\n",
              "                                                    [key], {});\n",
              "        if (!dataTable) return;\n",
              "\n",
              "        const docLinkHtml = 'Like what you see? Visit the ' +\n",
              "          '<a target=\"_blank\" href=https://colab.research.google.com/notebooks/data_table.ipynb>data table notebook</a>'\n",
              "          + ' to learn more about interactive tables.';\n",
              "        element.innerHTML = '';\n",
              "        dataTable['output_type'] = 'display_data';\n",
              "        await google.colab.output.renderOutput(dataTable, element);\n",
              "        const docLink = document.createElement('div');\n",
              "        docLink.innerHTML = docLinkHtml;\n",
              "        element.appendChild(docLink);\n",
              "      }\n",
              "    </script>\n",
              "  </div>\n",
              "\n",
              "\n",
              "<div id=\"df-36e3e3b1-99f9-4143-acb1-c4b9c6d76b76\">\n",
              "  <button class=\"colab-df-quickchart\" onclick=\"quickchart('df-36e3e3b1-99f9-4143-acb1-c4b9c6d76b76')\"\n",
              "            title=\"Suggest charts\"\n",
              "            style=\"display:none;\">\n",
              "\n",
              "<svg xmlns=\"http://www.w3.org/2000/svg\" height=\"24px\"viewBox=\"0 0 24 24\"\n",
              "     width=\"24px\">\n",
              "    <g>\n",
              "        <path d=\"M19 3H5c-1.1 0-2 .9-2 2v14c0 1.1.9 2 2 2h14c1.1 0 2-.9 2-2V5c0-1.1-.9-2-2-2zM9 17H7v-7h2v7zm4 0h-2V7h2v10zm4 0h-2v-4h2v4z\"/>\n",
              "    </g>\n",
              "</svg>\n",
              "  </button>\n",
              "\n",
              "<style>\n",
              "  .colab-df-quickchart {\n",
              "      --bg-color: #E8F0FE;\n",
              "      --fill-color: #1967D2;\n",
              "      --hover-bg-color: #E2EBFA;\n",
              "      --hover-fill-color: #174EA6;\n",
              "      --disabled-fill-color: #AAA;\n",
              "      --disabled-bg-color: #DDD;\n",
              "  }\n",
              "\n",
              "  [theme=dark] .colab-df-quickchart {\n",
              "      --bg-color: #3B4455;\n",
              "      --fill-color: #D2E3FC;\n",
              "      --hover-bg-color: #434B5C;\n",
              "      --hover-fill-color: #FFFFFF;\n",
              "      --disabled-bg-color: #3B4455;\n",
              "      --disabled-fill-color: #666;\n",
              "  }\n",
              "\n",
              "  .colab-df-quickchart {\n",
              "    background-color: var(--bg-color);\n",
              "    border: none;\n",
              "    border-radius: 50%;\n",
              "    cursor: pointer;\n",
              "    display: none;\n",
              "    fill: var(--fill-color);\n",
              "    height: 32px;\n",
              "    padding: 0;\n",
              "    width: 32px;\n",
              "  }\n",
              "\n",
              "  .colab-df-quickchart:hover {\n",
              "    background-color: var(--hover-bg-color);\n",
              "    box-shadow: 0 1px 2px rgba(60, 64, 67, 0.3), 0 1px 3px 1px rgba(60, 64, 67, 0.15);\n",
              "    fill: var(--button-hover-fill-color);\n",
              "  }\n",
              "\n",
              "  .colab-df-quickchart-complete:disabled,\n",
              "  .colab-df-quickchart-complete:disabled:hover {\n",
              "    background-color: var(--disabled-bg-color);\n",
              "    fill: var(--disabled-fill-color);\n",
              "    box-shadow: none;\n",
              "  }\n",
              "\n",
              "  .colab-df-spinner {\n",
              "    border: 2px solid var(--fill-color);\n",
              "    border-color: transparent;\n",
              "    border-bottom-color: var(--fill-color);\n",
              "    animation:\n",
              "      spin 1s steps(1) infinite;\n",
              "  }\n",
              "\n",
              "  @keyframes spin {\n",
              "    0% {\n",
              "      border-color: transparent;\n",
              "      border-bottom-color: var(--fill-color);\n",
              "      border-left-color: var(--fill-color);\n",
              "    }\n",
              "    20% {\n",
              "      border-color: transparent;\n",
              "      border-left-color: var(--fill-color);\n",
              "      border-top-color: var(--fill-color);\n",
              "    }\n",
              "    30% {\n",
              "      border-color: transparent;\n",
              "      border-left-color: var(--fill-color);\n",
              "      border-top-color: var(--fill-color);\n",
              "      border-right-color: var(--fill-color);\n",
              "    }\n",
              "    40% {\n",
              "      border-color: transparent;\n",
              "      border-right-color: var(--fill-color);\n",
              "      border-top-color: var(--fill-color);\n",
              "    }\n",
              "    60% {\n",
              "      border-color: transparent;\n",
              "      border-right-color: var(--fill-color);\n",
              "    }\n",
              "    80% {\n",
              "      border-color: transparent;\n",
              "      border-right-color: var(--fill-color);\n",
              "      border-bottom-color: var(--fill-color);\n",
              "    }\n",
              "    90% {\n",
              "      border-color: transparent;\n",
              "      border-bottom-color: var(--fill-color);\n",
              "    }\n",
              "  }\n",
              "</style>\n",
              "\n",
              "  <script>\n",
              "    async function quickchart(key) {\n",
              "      const quickchartButtonEl =\n",
              "        document.querySelector('#' + key + ' button');\n",
              "      quickchartButtonEl.disabled = true;  // To prevent multiple clicks.\n",
              "      quickchartButtonEl.classList.add('colab-df-spinner');\n",
              "      try {\n",
              "        const charts = await google.colab.kernel.invokeFunction(\n",
              "            'suggestCharts', [key], {});\n",
              "      } catch (error) {\n",
              "        console.error('Error during call to suggestCharts:', error);\n",
              "      }\n",
              "      quickchartButtonEl.classList.remove('colab-df-spinner');\n",
              "      quickchartButtonEl.classList.add('colab-df-quickchart-complete');\n",
              "    }\n",
              "    (() => {\n",
              "      let quickchartButtonEl =\n",
              "        document.querySelector('#df-36e3e3b1-99f9-4143-acb1-c4b9c6d76b76 button');\n",
              "      quickchartButtonEl.style.display =\n",
              "        google.colab.kernel.accessAllowed ? 'block' : 'none';\n",
              "    })();\n",
              "  </script>\n",
              "</div>\n",
              "\n",
              "    </div>\n",
              "  </div>\n"
            ]
          },
          "metadata": {},
          "execution_count": 3
        }
      ],
      "source": [
        "billboard.head()"
      ]
    },
    {
      "cell_type": "markdown",
      "metadata": {
        "id": "TReninaEXWI9"
      },
      "source": [
        "Lo que querríamos es poder mantener todas las columnas excepto las columnas que incluyen \"week\" en el nombre. Para poder tener un formato \"tidy\" u \"ordenado\" deberíamos tener, por un lado, una columna week que indique el número de la semana (y preferentemente que sea un entero), y por otro lado una columna ranking con el valor del ranking en esa semana.\n",
        "\n",
        "Para lograr ésto, vamos a usar la función **.melt**. Esta función recibe el DataFrame y vamos a usar el parámetro id_vars para pasarle la lista de columnas que van a ser constantes, es decir, que no van a variar. Con las demás columnas .melt va a:\n",
        "\n",
        "1- tomar los nombres de columnas no incluídas en id_vars y convertirlos en una columna\n",
        "\n",
        "2- va a tomar los valores de esas columnas y convertirlos en una segunda columna."
      ]
    },
    {
      "cell_type": "markdown",
      "metadata": {
        "id": "OvnBf9FAXWI9"
      },
      "source": [
        "Ahora, querríamos que variable se llame week y value se llame ranking, para eso hacemos..."
      ]
    },
    {
      "cell_type": "code",
      "execution_count": null,
      "metadata": {
        "id": "2ZUSHl3CXWI9",
        "outputId": "fb502ad3-61b4-4788-dc5e-e53f8b326c88",
        "colab": {
          "base_uri": "https://localhost:8080/"
        }
      },
      "outputs": [
        {
          "output_type": "stream",
          "name": "stderr",
          "text": [
            "<ipython-input-24-43011826fc97>:1: FutureWarning: This dataframe has a column name that matches the 'value_name' column name of the resulting Dataframe. In the future this will raise an error, please set the 'value_name' parameter of DataFrame.melt to a unique name.\n",
            "  billboard_2 = pd.melt(\n"
          ]
        }
      ],
      "source": [
        "billboard_2 = pd.melt(\n",
        "    billboard,\n",
        "    id_vars = ['year', 'artist.inverted', 'track', 'time', 'genre', 'date.entered', 'date.peaked']\n",
        ")"
      ]
    },
    {
      "cell_type": "code",
      "execution_count": null,
      "metadata": {
        "id": "2U0XT5fVXWI-",
        "outputId": "2ab08a1d-9c73-40cc-d184-497ec568eacf",
        "colab": {
          "base_uri": "https://localhost:8080/",
          "height": 206
        }
      },
      "outputs": [
        {
          "output_type": "execute_result",
          "data": {
            "text/plain": [
              "   year      artist.inverted                                  track  time  \\\n",
              "0  2000      Destiny's Child               Independent Women Part I  3:38   \n",
              "1  2000              Santana                           Maria, Maria  4:18   \n",
              "2  2000        Savage Garden                     I Knew I Loved You  4:07   \n",
              "3  2000              Madonna                                  Music  3:45   \n",
              "4  2000  Aguilera, Christina  Come On Over Baby (All I Want Is You)  3:38   \n",
              "\n",
              "  genre date.entered date.peaked  variable     value  \n",
              "0  Rock   2000-09-23  2000-11-18  variable  variable  \n",
              "1  Rock   2000-02-12  2000-04-08  variable  variable  \n",
              "2  Rock   1999-10-23  2000-01-29  variable  variable  \n",
              "3  Rock   2000-08-12  2000-09-16  variable  variable  \n",
              "4  Rock   2000-08-05  2000-10-14  variable  variable  "
            ],
            "text/html": [
              "\n",
              "  <div id=\"df-893680e8-44d6-4bfd-b772-3dcd721d8c17\" class=\"colab-df-container\">\n",
              "    <div>\n",
              "<style scoped>\n",
              "    .dataframe tbody tr th:only-of-type {\n",
              "        vertical-align: middle;\n",
              "    }\n",
              "\n",
              "    .dataframe tbody tr th {\n",
              "        vertical-align: top;\n",
              "    }\n",
              "\n",
              "    .dataframe thead th {\n",
              "        text-align: right;\n",
              "    }\n",
              "</style>\n",
              "<table border=\"1\" class=\"dataframe\">\n",
              "  <thead>\n",
              "    <tr style=\"text-align: right;\">\n",
              "      <th></th>\n",
              "      <th>year</th>\n",
              "      <th>artist.inverted</th>\n",
              "      <th>track</th>\n",
              "      <th>time</th>\n",
              "      <th>genre</th>\n",
              "      <th>date.entered</th>\n",
              "      <th>date.peaked</th>\n",
              "      <th>variable</th>\n",
              "      <th>value</th>\n",
              "    </tr>\n",
              "  </thead>\n",
              "  <tbody>\n",
              "    <tr>\n",
              "      <th>0</th>\n",
              "      <td>2000</td>\n",
              "      <td>Destiny's Child</td>\n",
              "      <td>Independent Women Part I</td>\n",
              "      <td>3:38</td>\n",
              "      <td>Rock</td>\n",
              "      <td>2000-09-23</td>\n",
              "      <td>2000-11-18</td>\n",
              "      <td>variable</td>\n",
              "      <td>variable</td>\n",
              "    </tr>\n",
              "    <tr>\n",
              "      <th>1</th>\n",
              "      <td>2000</td>\n",
              "      <td>Santana</td>\n",
              "      <td>Maria, Maria</td>\n",
              "      <td>4:18</td>\n",
              "      <td>Rock</td>\n",
              "      <td>2000-02-12</td>\n",
              "      <td>2000-04-08</td>\n",
              "      <td>variable</td>\n",
              "      <td>variable</td>\n",
              "    </tr>\n",
              "    <tr>\n",
              "      <th>2</th>\n",
              "      <td>2000</td>\n",
              "      <td>Savage Garden</td>\n",
              "      <td>I Knew I Loved You</td>\n",
              "      <td>4:07</td>\n",
              "      <td>Rock</td>\n",
              "      <td>1999-10-23</td>\n",
              "      <td>2000-01-29</td>\n",
              "      <td>variable</td>\n",
              "      <td>variable</td>\n",
              "    </tr>\n",
              "    <tr>\n",
              "      <th>3</th>\n",
              "      <td>2000</td>\n",
              "      <td>Madonna</td>\n",
              "      <td>Music</td>\n",
              "      <td>3:45</td>\n",
              "      <td>Rock</td>\n",
              "      <td>2000-08-12</td>\n",
              "      <td>2000-09-16</td>\n",
              "      <td>variable</td>\n",
              "      <td>variable</td>\n",
              "    </tr>\n",
              "    <tr>\n",
              "      <th>4</th>\n",
              "      <td>2000</td>\n",
              "      <td>Aguilera, Christina</td>\n",
              "      <td>Come On Over Baby (All I Want Is You)</td>\n",
              "      <td>3:38</td>\n",
              "      <td>Rock</td>\n",
              "      <td>2000-08-05</td>\n",
              "      <td>2000-10-14</td>\n",
              "      <td>variable</td>\n",
              "      <td>variable</td>\n",
              "    </tr>\n",
              "  </tbody>\n",
              "</table>\n",
              "</div>\n",
              "    <div class=\"colab-df-buttons\">\n",
              "\n",
              "  <div class=\"colab-df-container\">\n",
              "    <button class=\"colab-df-convert\" onclick=\"convertToInteractive('df-893680e8-44d6-4bfd-b772-3dcd721d8c17')\"\n",
              "            title=\"Convert this dataframe to an interactive table.\"\n",
              "            style=\"display:none;\">\n",
              "\n",
              "  <svg xmlns=\"http://www.w3.org/2000/svg\" height=\"24px\" viewBox=\"0 -960 960 960\">\n",
              "    <path d=\"M120-120v-720h720v720H120Zm60-500h600v-160H180v160Zm220 220h160v-160H400v160Zm0 220h160v-160H400v160ZM180-400h160v-160H180v160Zm440 0h160v-160H620v160ZM180-180h160v-160H180v160Zm440 0h160v-160H620v160Z\"/>\n",
              "  </svg>\n",
              "    </button>\n",
              "\n",
              "  <style>\n",
              "    .colab-df-container {\n",
              "      display:flex;\n",
              "      gap: 12px;\n",
              "    }\n",
              "\n",
              "    .colab-df-convert {\n",
              "      background-color: #E8F0FE;\n",
              "      border: none;\n",
              "      border-radius: 50%;\n",
              "      cursor: pointer;\n",
              "      display: none;\n",
              "      fill: #1967D2;\n",
              "      height: 32px;\n",
              "      padding: 0 0 0 0;\n",
              "      width: 32px;\n",
              "    }\n",
              "\n",
              "    .colab-df-convert:hover {\n",
              "      background-color: #E2EBFA;\n",
              "      box-shadow: 0px 1px 2px rgba(60, 64, 67, 0.3), 0px 1px 3px 1px rgba(60, 64, 67, 0.15);\n",
              "      fill: #174EA6;\n",
              "    }\n",
              "\n",
              "    .colab-df-buttons div {\n",
              "      margin-bottom: 4px;\n",
              "    }\n",
              "\n",
              "    [theme=dark] .colab-df-convert {\n",
              "      background-color: #3B4455;\n",
              "      fill: #D2E3FC;\n",
              "    }\n",
              "\n",
              "    [theme=dark] .colab-df-convert:hover {\n",
              "      background-color: #434B5C;\n",
              "      box-shadow: 0px 1px 3px 1px rgba(0, 0, 0, 0.15);\n",
              "      filter: drop-shadow(0px 1px 2px rgba(0, 0, 0, 0.3));\n",
              "      fill: #FFFFFF;\n",
              "    }\n",
              "  </style>\n",
              "\n",
              "    <script>\n",
              "      const buttonEl =\n",
              "        document.querySelector('#df-893680e8-44d6-4bfd-b772-3dcd721d8c17 button.colab-df-convert');\n",
              "      buttonEl.style.display =\n",
              "        google.colab.kernel.accessAllowed ? 'block' : 'none';\n",
              "\n",
              "      async function convertToInteractive(key) {\n",
              "        const element = document.querySelector('#df-893680e8-44d6-4bfd-b772-3dcd721d8c17');\n",
              "        const dataTable =\n",
              "          await google.colab.kernel.invokeFunction('convertToInteractive',\n",
              "                                                    [key], {});\n",
              "        if (!dataTable) return;\n",
              "\n",
              "        const docLinkHtml = 'Like what you see? Visit the ' +\n",
              "          '<a target=\"_blank\" href=https://colab.research.google.com/notebooks/data_table.ipynb>data table notebook</a>'\n",
              "          + ' to learn more about interactive tables.';\n",
              "        element.innerHTML = '';\n",
              "        dataTable['output_type'] = 'display_data';\n",
              "        await google.colab.output.renderOutput(dataTable, element);\n",
              "        const docLink = document.createElement('div');\n",
              "        docLink.innerHTML = docLinkHtml;\n",
              "        element.appendChild(docLink);\n",
              "      }\n",
              "    </script>\n",
              "  </div>\n",
              "\n",
              "\n",
              "<div id=\"df-5dbd1c59-9a85-4929-b200-dbfd2847f24e\">\n",
              "  <button class=\"colab-df-quickchart\" onclick=\"quickchart('df-5dbd1c59-9a85-4929-b200-dbfd2847f24e')\"\n",
              "            title=\"Suggest charts\"\n",
              "            style=\"display:none;\">\n",
              "\n",
              "<svg xmlns=\"http://www.w3.org/2000/svg\" height=\"24px\"viewBox=\"0 0 24 24\"\n",
              "     width=\"24px\">\n",
              "    <g>\n",
              "        <path d=\"M19 3H5c-1.1 0-2 .9-2 2v14c0 1.1.9 2 2 2h14c1.1 0 2-.9 2-2V5c0-1.1-.9-2-2-2zM9 17H7v-7h2v7zm4 0h-2V7h2v10zm4 0h-2v-4h2v4z\"/>\n",
              "    </g>\n",
              "</svg>\n",
              "  </button>\n",
              "\n",
              "<style>\n",
              "  .colab-df-quickchart {\n",
              "      --bg-color: #E8F0FE;\n",
              "      --fill-color: #1967D2;\n",
              "      --hover-bg-color: #E2EBFA;\n",
              "      --hover-fill-color: #174EA6;\n",
              "      --disabled-fill-color: #AAA;\n",
              "      --disabled-bg-color: #DDD;\n",
              "  }\n",
              "\n",
              "  [theme=dark] .colab-df-quickchart {\n",
              "      --bg-color: #3B4455;\n",
              "      --fill-color: #D2E3FC;\n",
              "      --hover-bg-color: #434B5C;\n",
              "      --hover-fill-color: #FFFFFF;\n",
              "      --disabled-bg-color: #3B4455;\n",
              "      --disabled-fill-color: #666;\n",
              "  }\n",
              "\n",
              "  .colab-df-quickchart {\n",
              "    background-color: var(--bg-color);\n",
              "    border: none;\n",
              "    border-radius: 50%;\n",
              "    cursor: pointer;\n",
              "    display: none;\n",
              "    fill: var(--fill-color);\n",
              "    height: 32px;\n",
              "    padding: 0;\n",
              "    width: 32px;\n",
              "  }\n",
              "\n",
              "  .colab-df-quickchart:hover {\n",
              "    background-color: var(--hover-bg-color);\n",
              "    box-shadow: 0 1px 2px rgba(60, 64, 67, 0.3), 0 1px 3px 1px rgba(60, 64, 67, 0.15);\n",
              "    fill: var(--button-hover-fill-color);\n",
              "  }\n",
              "\n",
              "  .colab-df-quickchart-complete:disabled,\n",
              "  .colab-df-quickchart-complete:disabled:hover {\n",
              "    background-color: var(--disabled-bg-color);\n",
              "    fill: var(--disabled-fill-color);\n",
              "    box-shadow: none;\n",
              "  }\n",
              "\n",
              "  .colab-df-spinner {\n",
              "    border: 2px solid var(--fill-color);\n",
              "    border-color: transparent;\n",
              "    border-bottom-color: var(--fill-color);\n",
              "    animation:\n",
              "      spin 1s steps(1) infinite;\n",
              "  }\n",
              "\n",
              "  @keyframes spin {\n",
              "    0% {\n",
              "      border-color: transparent;\n",
              "      border-bottom-color: var(--fill-color);\n",
              "      border-left-color: var(--fill-color);\n",
              "    }\n",
              "    20% {\n",
              "      border-color: transparent;\n",
              "      border-left-color: var(--fill-color);\n",
              "      border-top-color: var(--fill-color);\n",
              "    }\n",
              "    30% {\n",
              "      border-color: transparent;\n",
              "      border-left-color: var(--fill-color);\n",
              "      border-top-color: var(--fill-color);\n",
              "      border-right-color: var(--fill-color);\n",
              "    }\n",
              "    40% {\n",
              "      border-color: transparent;\n",
              "      border-right-color: var(--fill-color);\n",
              "      border-top-color: var(--fill-color);\n",
              "    }\n",
              "    60% {\n",
              "      border-color: transparent;\n",
              "      border-right-color: var(--fill-color);\n",
              "    }\n",
              "    80% {\n",
              "      border-color: transparent;\n",
              "      border-right-color: var(--fill-color);\n",
              "      border-bottom-color: var(--fill-color);\n",
              "    }\n",
              "    90% {\n",
              "      border-color: transparent;\n",
              "      border-bottom-color: var(--fill-color);\n",
              "    }\n",
              "  }\n",
              "</style>\n",
              "\n",
              "  <script>\n",
              "    async function quickchart(key) {\n",
              "      const quickchartButtonEl =\n",
              "        document.querySelector('#' + key + ' button');\n",
              "      quickchartButtonEl.disabled = true;  // To prevent multiple clicks.\n",
              "      quickchartButtonEl.classList.add('colab-df-spinner');\n",
              "      try {\n",
              "        const charts = await google.colab.kernel.invokeFunction(\n",
              "            'suggestCharts', [key], {});\n",
              "      } catch (error) {\n",
              "        console.error('Error during call to suggestCharts:', error);\n",
              "      }\n",
              "      quickchartButtonEl.classList.remove('colab-df-spinner');\n",
              "      quickchartButtonEl.classList.add('colab-df-quickchart-complete');\n",
              "    }\n",
              "    (() => {\n",
              "      let quickchartButtonEl =\n",
              "        document.querySelector('#df-5dbd1c59-9a85-4929-b200-dbfd2847f24e button');\n",
              "      quickchartButtonEl.style.display =\n",
              "        google.colab.kernel.accessAllowed ? 'block' : 'none';\n",
              "    })();\n",
              "  </script>\n",
              "</div>\n",
              "\n",
              "    </div>\n",
              "  </div>\n"
            ]
          },
          "metadata": {},
          "execution_count": 25
        }
      ],
      "source": [
        "billboard_2.head()"
      ]
    },
    {
      "cell_type": "markdown",
      "metadata": {
        "id": "k0eW0R_qXWI-"
      },
      "source": [
        "### Ejercicios"
      ]
    },
    {
      "cell_type": "markdown",
      "metadata": {
        "id": "2VaBPBaYXWI-"
      },
      "source": [
        "1- Quédense sólo con la parte numérica de week sin usar regex, y conviertan a número los valores de la columna."
      ]
    },
    {
      "cell_type": "code",
      "execution_count": null,
      "metadata": {
        "id": "FHzXuo4KXWI_"
      },
      "outputs": [],
      "source": [
        "billboard_2[\"week\"] = billboard_2[\"week\"].str[1:-7].astype(int)"
      ]
    },
    {
      "cell_type": "markdown",
      "metadata": {
        "id": "Tyz8oJ08XWI_"
      },
      "source": [
        "2- Conviertan los valores de la columna ranking a entero. Tip: prueben usar pd.isna() para saber si un valor es nulo o no."
      ]
    },
    {
      "cell_type": "code",
      "execution_count": null,
      "metadata": {
        "id": "e3Y7wZ70XWI_"
      },
      "outputs": [],
      "source": [
        "billboard_2[\"ranking\"] = billboard_2[\"ranking\"].apply(lambda x: int(x) if not pd.isna(x) else x)"
      ]
    },
    {
      "cell_type": "markdown",
      "metadata": {
        "id": "dfdNVcFWXWJA"
      },
      "source": [
        "3- Vean cuántas filas totales hay y eliminen las filas con nulos, ahora vuelvan a ver cuántas filas quedan."
      ]
    },
    {
      "cell_type": "code",
      "execution_count": null,
      "metadata": {
        "id": "Ob0CIi1zXWJA",
        "outputId": "c7ab9689-f214-4cce-c4d4-bc116d04505f"
      },
      "outputs": [
        {
          "data": {
            "text/plain": [
              "(24092, 9)"
            ]
          },
          "execution_count": 156,
          "metadata": {},
          "output_type": "execute_result"
        }
      ],
      "source": [
        "billboard_2.shape"
      ]
    },
    {
      "cell_type": "code",
      "execution_count": null,
      "metadata": {
        "id": "2_rwcUAHXWJA"
      },
      "outputs": [],
      "source": [
        "billboard_2 = billboard_2.dropna()"
      ]
    },
    {
      "cell_type": "code",
      "execution_count": null,
      "metadata": {
        "id": "LS-jJ75VXWJA",
        "outputId": "cdd7e41f-f1a6-42a7-a765-9dbbace23ba1"
      },
      "outputs": [
        {
          "data": {
            "text/plain": [
              "(5307, 9)"
            ]
          },
          "execution_count": 158,
          "metadata": {},
          "output_type": "execute_result"
        }
      ],
      "source": [
        "billboard_2.shape"
      ]
    },
    {
      "cell_type": "markdown",
      "metadata": {
        "id": "hxHQ-BL-XWJB"
      },
      "source": [
        "# Series de Tiempo"
      ]
    },
    {
      "cell_type": "markdown",
      "metadata": {
        "id": "KgmFBdMaXWJB"
      },
      "source": [
        "Las series de tiempo representan uno de los problemas mas interesantes en la ciencia de datos ya que refiere a eventos continuos y ordenados los cuales pueden ser independientes o tener alguna correlacion entre si. En este modulo veremos los metodos mas utilizados para manipular series de tiempo en pandas"
      ]
    },
    {
      "cell_type": "markdown",
      "metadata": {
        "id": "7POnzM1ZXWJC"
      },
      "source": [
        "## Datetime y metodos de manipulacion de series de tiempo\n",
        "\n",
        "Para esta seccion vamos a utilizar el dataset de consumo energetico de Alemania."
      ]
    },
    {
      "cell_type": "code",
      "execution_count": null,
      "metadata": {
        "id": "rTbftw1hXWJD"
      },
      "outputs": [],
      "source": [
        "df_energia = pd.read_csv('https://raw.githubusercontent.com/jenfly/opsd/master/opsd_germany_daily.csv')"
      ]
    },
    {
      "cell_type": "markdown",
      "metadata": {
        "id": "jFICTC2_XWJD"
      },
      "source": [
        "Primeramente vamos a evaluar el dataset"
      ]
    },
    {
      "cell_type": "code",
      "execution_count": null,
      "metadata": {
        "id": "dAqJN6ROXWJE",
        "outputId": "3891aeba-e5aa-4b9a-b200-a488703486ab"
      },
      "outputs": [
        {
          "data": {
            "text/html": [
              "<div>\n",
              "<style scoped>\n",
              "    .dataframe tbody tr th:only-of-type {\n",
              "        vertical-align: middle;\n",
              "    }\n",
              "\n",
              "    .dataframe tbody tr th {\n",
              "        vertical-align: top;\n",
              "    }\n",
              "\n",
              "    .dataframe thead th {\n",
              "        text-align: right;\n",
              "    }\n",
              "</style>\n",
              "<table border=\"1\" class=\"dataframe\">\n",
              "  <thead>\n",
              "    <tr style=\"text-align: right;\">\n",
              "      <th></th>\n",
              "      <th>Fecha</th>\n",
              "      <th>Consumo</th>\n",
              "      <th>Eolica</th>\n",
              "      <th>Solar</th>\n",
              "      <th>Suma</th>\n",
              "    </tr>\n",
              "  </thead>\n",
              "  <tbody>\n",
              "    <tr>\n",
              "      <th>4373</th>\n",
              "      <td>2017-12-22</td>\n",
              "      <td>1423.23782</td>\n",
              "      <td>228.773</td>\n",
              "      <td>10.065</td>\n",
              "      <td>238.838</td>\n",
              "    </tr>\n",
              "    <tr>\n",
              "      <th>4374</th>\n",
              "      <td>2017-12-23</td>\n",
              "      <td>1272.17085</td>\n",
              "      <td>748.074</td>\n",
              "      <td>8.450</td>\n",
              "      <td>756.524</td>\n",
              "    </tr>\n",
              "    <tr>\n",
              "      <th>4375</th>\n",
              "      <td>2017-12-24</td>\n",
              "      <td>1141.75730</td>\n",
              "      <td>812.422</td>\n",
              "      <td>9.949</td>\n",
              "      <td>822.371</td>\n",
              "    </tr>\n",
              "    <tr>\n",
              "      <th>4376</th>\n",
              "      <td>2017-12-25</td>\n",
              "      <td>1111.28338</td>\n",
              "      <td>587.810</td>\n",
              "      <td>15.765</td>\n",
              "      <td>603.575</td>\n",
              "    </tr>\n",
              "    <tr>\n",
              "      <th>4377</th>\n",
              "      <td>2017-12-26</td>\n",
              "      <td>1130.11683</td>\n",
              "      <td>717.453</td>\n",
              "      <td>30.923</td>\n",
              "      <td>748.376</td>\n",
              "    </tr>\n",
              "    <tr>\n",
              "      <th>4378</th>\n",
              "      <td>2017-12-27</td>\n",
              "      <td>1263.94091</td>\n",
              "      <td>394.507</td>\n",
              "      <td>16.530</td>\n",
              "      <td>411.037</td>\n",
              "    </tr>\n",
              "    <tr>\n",
              "      <th>4379</th>\n",
              "      <td>2017-12-28</td>\n",
              "      <td>1299.86398</td>\n",
              "      <td>506.424</td>\n",
              "      <td>14.162</td>\n",
              "      <td>520.586</td>\n",
              "    </tr>\n",
              "    <tr>\n",
              "      <th>4380</th>\n",
              "      <td>2017-12-29</td>\n",
              "      <td>1295.08753</td>\n",
              "      <td>584.277</td>\n",
              "      <td>29.854</td>\n",
              "      <td>614.131</td>\n",
              "    </tr>\n",
              "    <tr>\n",
              "      <th>4381</th>\n",
              "      <td>2017-12-30</td>\n",
              "      <td>1215.44897</td>\n",
              "      <td>721.247</td>\n",
              "      <td>7.467</td>\n",
              "      <td>728.714</td>\n",
              "    </tr>\n",
              "    <tr>\n",
              "      <th>4382</th>\n",
              "      <td>2017-12-31</td>\n",
              "      <td>1107.11488</td>\n",
              "      <td>721.176</td>\n",
              "      <td>19.980</td>\n",
              "      <td>741.156</td>\n",
              "    </tr>\n",
              "  </tbody>\n",
              "</table>\n",
              "</div>"
            ],
            "text/plain": [
              "           Fecha     Consumo   Eolica   Solar     Suma\n",
              "4373  2017-12-22  1423.23782  228.773  10.065  238.838\n",
              "4374  2017-12-23  1272.17085  748.074   8.450  756.524\n",
              "4375  2017-12-24  1141.75730  812.422   9.949  822.371\n",
              "4376  2017-12-25  1111.28338  587.810  15.765  603.575\n",
              "4377  2017-12-26  1130.11683  717.453  30.923  748.376\n",
              "4378  2017-12-27  1263.94091  394.507  16.530  411.037\n",
              "4379  2017-12-28  1299.86398  506.424  14.162  520.586\n",
              "4380  2017-12-29  1295.08753  584.277  29.854  614.131\n",
              "4381  2017-12-30  1215.44897  721.247   7.467  728.714\n",
              "4382  2017-12-31  1107.11488  721.176  19.980  741.156"
            ]
          },
          "execution_count": 93,
          "metadata": {},
          "output_type": "execute_result"
        }
      ],
      "source": [
        "df_energia.columns = ['Fecha', 'Consumo', 'Eolica', 'Solar', 'Suma']\n",
        "df_energia.tail(10)"
      ]
    },
    {
      "cell_type": "markdown",
      "metadata": {
        "id": "F7QGAiRHXWJE"
      },
      "source": [
        "Las columnas son las siguientes:\n",
        "    - Date — La fecha (yyyy-mm-dd)\n",
        "    - Consumo — Electricidad Consumida en GWh\n",
        "    - Eolica — Produccion de energia eolica en GWh\n",
        "    - Solar — Produccion de energia solar en GWh\n",
        "    - Suma — Suma de las dos anteriores GWh"
      ]
    },
    {
      "cell_type": "markdown",
      "metadata": {
        "id": "esAbclnoXWJF"
      },
      "source": [
        "Antes de comenzar a explorar el dataset, veamos algunas funciones de pandas para crear fechas. El metodo to_datetime nos permite transformar un string en cierto formato a un objeto del tipo Timestamp, el cual consiste de una fecha y una hora. Podemos ver que acepta varios formatos"
      ]
    },
    {
      "cell_type": "code",
      "execution_count": null,
      "metadata": {
        "id": "u6Fntd8sXWJF",
        "outputId": "a552c17c-a713-46e3-d7e3-cfb17e9c409b"
      },
      "outputs": [
        {
          "data": {
            "text/plain": [
              "Timestamp('2018-01-15 15:45:00')"
            ]
          },
          "execution_count": 94,
          "metadata": {},
          "output_type": "execute_result"
        }
      ],
      "source": [
        "pd.to_datetime('2018-01-15 3:45pm')"
      ]
    },
    {
      "cell_type": "code",
      "execution_count": null,
      "metadata": {
        "id": "OsfaF-ucXWJG",
        "outputId": "faf942da-c3c1-4fde-9373-6c95f69863d3"
      },
      "outputs": [
        {
          "data": {
            "text/plain": [
              "Timestamp('1952-07-08 00:00:00')"
            ]
          },
          "execution_count": 95,
          "metadata": {},
          "output_type": "execute_result"
        }
      ],
      "source": [
        "pd.to_datetime('7/8/1952')"
      ]
    },
    {
      "cell_type": "markdown",
      "metadata": {
        "id": "XYLt_FqPXWJG"
      },
      "source": [
        "Vamos a convertir el dtype de nuestra columna Fecha de object a  datetime64"
      ]
    },
    {
      "cell_type": "code",
      "execution_count": null,
      "metadata": {
        "id": "ruDIuNIEXWJG",
        "outputId": "5353cecc-0768-4571-9df3-58a674f50aa7"
      },
      "outputs": [
        {
          "name": "stdout",
          "output_type": "stream",
          "text": [
            "<class 'pandas.core.frame.DataFrame'>\n",
            "RangeIndex: 4383 entries, 0 to 4382\n",
            "Data columns (total 5 columns):\n",
            " #   Column   Non-Null Count  Dtype  \n",
            "---  ------   --------------  -----  \n",
            " 0   Fecha    4383 non-null   object \n",
            " 1   Consumo  4383 non-null   float64\n",
            " 2   Eolica   2920 non-null   float64\n",
            " 3   Solar    2188 non-null   float64\n",
            " 4   Suma     2187 non-null   float64\n",
            "dtypes: float64(4), object(1)\n",
            "memory usage: 171.3+ KB\n"
          ]
        }
      ],
      "source": [
        "df_energia.info()"
      ]
    },
    {
      "cell_type": "code",
      "execution_count": null,
      "metadata": {
        "id": "NeuiDeFrXWJH"
      },
      "outputs": [],
      "source": [
        "df_energia[\"Fecha\"] = pd.to_datetime(df_energia[\"Fecha\"])"
      ]
    },
    {
      "cell_type": "code",
      "execution_count": null,
      "metadata": {
        "id": "KN4yOVaNXWJH",
        "outputId": "99776581-2772-4bb6-8898-83dc8a90204a"
      },
      "outputs": [
        {
          "name": "stdout",
          "output_type": "stream",
          "text": [
            "<class 'pandas.core.frame.DataFrame'>\n",
            "RangeIndex: 4383 entries, 0 to 4382\n",
            "Data columns (total 5 columns):\n",
            " #   Column   Non-Null Count  Dtype         \n",
            "---  ------   --------------  -----         \n",
            " 0   Fecha    4383 non-null   datetime64[ns]\n",
            " 1   Consumo  4383 non-null   float64       \n",
            " 2   Eolica   2920 non-null   float64       \n",
            " 3   Solar    2188 non-null   float64       \n",
            " 4   Suma     2187 non-null   float64       \n",
            "dtypes: datetime64[ns](1), float64(4)\n",
            "memory usage: 171.3 KB\n"
          ]
        }
      ],
      "source": [
        "df_energia.info()"
      ]
    },
    {
      "cell_type": "markdown",
      "metadata": {
        "id": "oOHk6o69XWJH"
      },
      "source": [
        "Convertir la columna *Fecha* en datetime nos permite filtrar usando la información temporal..."
      ]
    },
    {
      "cell_type": "code",
      "execution_count": null,
      "metadata": {
        "id": "MchvOI8pXWJH",
        "outputId": "61692b4e-3538-4bf5-f3e7-5e2dfb134eb9"
      },
      "outputs": [
        {
          "data": {
            "text/html": [
              "<div>\n",
              "<style scoped>\n",
              "    .dataframe tbody tr th:only-of-type {\n",
              "        vertical-align: middle;\n",
              "    }\n",
              "\n",
              "    .dataframe tbody tr th {\n",
              "        vertical-align: top;\n",
              "    }\n",
              "\n",
              "    .dataframe thead th {\n",
              "        text-align: right;\n",
              "    }\n",
              "</style>\n",
              "<table border=\"1\" class=\"dataframe\">\n",
              "  <thead>\n",
              "    <tr style=\"text-align: right;\">\n",
              "      <th></th>\n",
              "      <th>Fecha</th>\n",
              "      <th>Consumo</th>\n",
              "      <th>Eolica</th>\n",
              "      <th>Solar</th>\n",
              "      <th>Suma</th>\n",
              "    </tr>\n",
              "  </thead>\n",
              "  <tbody>\n",
              "    <tr>\n",
              "      <th>0</th>\n",
              "      <td>2006-01-01</td>\n",
              "      <td>1069.184</td>\n",
              "      <td>NaN</td>\n",
              "      <td>NaN</td>\n",
              "      <td>NaN</td>\n",
              "    </tr>\n",
              "    <tr>\n",
              "      <th>1</th>\n",
              "      <td>2006-01-02</td>\n",
              "      <td>1380.521</td>\n",
              "      <td>NaN</td>\n",
              "      <td>NaN</td>\n",
              "      <td>NaN</td>\n",
              "    </tr>\n",
              "    <tr>\n",
              "      <th>2</th>\n",
              "      <td>2006-01-03</td>\n",
              "      <td>1442.533</td>\n",
              "      <td>NaN</td>\n",
              "      <td>NaN</td>\n",
              "      <td>NaN</td>\n",
              "    </tr>\n",
              "    <tr>\n",
              "      <th>3</th>\n",
              "      <td>2006-01-04</td>\n",
              "      <td>1457.217</td>\n",
              "      <td>NaN</td>\n",
              "      <td>NaN</td>\n",
              "      <td>NaN</td>\n",
              "    </tr>\n",
              "    <tr>\n",
              "      <th>4</th>\n",
              "      <td>2006-01-05</td>\n",
              "      <td>1477.131</td>\n",
              "      <td>NaN</td>\n",
              "      <td>NaN</td>\n",
              "      <td>NaN</td>\n",
              "    </tr>\n",
              "  </tbody>\n",
              "</table>\n",
              "</div>"
            ],
            "text/plain": [
              "       Fecha   Consumo  Eolica  Solar  Suma\n",
              "0 2006-01-01  1069.184     NaN    NaN   NaN\n",
              "1 2006-01-02  1380.521     NaN    NaN   NaN\n",
              "2 2006-01-03  1442.533     NaN    NaN   NaN\n",
              "3 2006-01-04  1457.217     NaN    NaN   NaN\n",
              "4 2006-01-05  1477.131     NaN    NaN   NaN"
            ]
          },
          "execution_count": 99,
          "metadata": {},
          "output_type": "execute_result"
        }
      ],
      "source": [
        "df_energia.head()"
      ]
    },
    {
      "cell_type": "markdown",
      "metadata": {
        "id": "Oq1W9ci1XWJI"
      },
      "source": [
        "Podemos traernos los casos posteriores a 2009, por default a partir del 1ero de enero..."
      ]
    },
    {
      "cell_type": "code",
      "execution_count": null,
      "metadata": {
        "id": "V93RoBoZXWJI",
        "outputId": "3be98c39-a807-43c6-fd64-0a66817750de"
      },
      "outputs": [
        {
          "data": {
            "text/html": [
              "<div>\n",
              "<style scoped>\n",
              "    .dataframe tbody tr th:only-of-type {\n",
              "        vertical-align: middle;\n",
              "    }\n",
              "\n",
              "    .dataframe tbody tr th {\n",
              "        vertical-align: top;\n",
              "    }\n",
              "\n",
              "    .dataframe thead th {\n",
              "        text-align: right;\n",
              "    }\n",
              "</style>\n",
              "<table border=\"1\" class=\"dataframe\">\n",
              "  <thead>\n",
              "    <tr style=\"text-align: right;\">\n",
              "      <th></th>\n",
              "      <th>Fecha</th>\n",
              "      <th>Consumo</th>\n",
              "      <th>Eolica</th>\n",
              "      <th>Solar</th>\n",
              "      <th>Suma</th>\n",
              "    </tr>\n",
              "  </thead>\n",
              "  <tbody>\n",
              "    <tr>\n",
              "      <th>1097</th>\n",
              "      <td>2009-01-02</td>\n",
              "      <td>1161.911</td>\n",
              "      <td>NaN</td>\n",
              "      <td>NaN</td>\n",
              "      <td>NaN</td>\n",
              "    </tr>\n",
              "    <tr>\n",
              "      <th>1098</th>\n",
              "      <td>2009-01-03</td>\n",
              "      <td>1178.078</td>\n",
              "      <td>NaN</td>\n",
              "      <td>NaN</td>\n",
              "      <td>NaN</td>\n",
              "    </tr>\n",
              "    <tr>\n",
              "      <th>1099</th>\n",
              "      <td>2009-01-04</td>\n",
              "      <td>1130.021</td>\n",
              "      <td>NaN</td>\n",
              "      <td>NaN</td>\n",
              "      <td>NaN</td>\n",
              "    </tr>\n",
              "    <tr>\n",
              "      <th>1100</th>\n",
              "      <td>2009-01-05</td>\n",
              "      <td>1333.041</td>\n",
              "      <td>NaN</td>\n",
              "      <td>NaN</td>\n",
              "      <td>NaN</td>\n",
              "    </tr>\n",
              "    <tr>\n",
              "      <th>1101</th>\n",
              "      <td>2009-01-06</td>\n",
              "      <td>1340.896</td>\n",
              "      <td>NaN</td>\n",
              "      <td>NaN</td>\n",
              "      <td>NaN</td>\n",
              "    </tr>\n",
              "  </tbody>\n",
              "</table>\n",
              "</div>"
            ],
            "text/plain": [
              "          Fecha   Consumo  Eolica  Solar  Suma\n",
              "1097 2009-01-02  1161.911     NaN    NaN   NaN\n",
              "1098 2009-01-03  1178.078     NaN    NaN   NaN\n",
              "1099 2009-01-04  1130.021     NaN    NaN   NaN\n",
              "1100 2009-01-05  1333.041     NaN    NaN   NaN\n",
              "1101 2009-01-06  1340.896     NaN    NaN   NaN"
            ]
          },
          "execution_count": 100,
          "metadata": {},
          "output_type": "execute_result"
        }
      ],
      "source": [
        "df_energia[df_energia[\"Fecha\"] > \"2009\"].head()"
      ]
    },
    {
      "cell_type": "markdown",
      "metadata": {
        "id": "7ETOcAuiXWJI"
      },
      "source": [
        "Con el método **.between** podemos filtrar por un rango de fechas..."
      ]
    },
    {
      "cell_type": "code",
      "execution_count": null,
      "metadata": {
        "id": "ug0DZbXTXWJI",
        "outputId": "46d64b9d-1064-4a9d-c5d6-28a7a348fbe8"
      },
      "outputs": [
        {
          "data": {
            "text/html": [
              "<div>\n",
              "<style scoped>\n",
              "    .dataframe tbody tr th:only-of-type {\n",
              "        vertical-align: middle;\n",
              "    }\n",
              "\n",
              "    .dataframe tbody tr th {\n",
              "        vertical-align: top;\n",
              "    }\n",
              "\n",
              "    .dataframe thead th {\n",
              "        text-align: right;\n",
              "    }\n",
              "</style>\n",
              "<table border=\"1\" class=\"dataframe\">\n",
              "  <thead>\n",
              "    <tr style=\"text-align: right;\">\n",
              "      <th></th>\n",
              "      <th>Fecha</th>\n",
              "      <th>Consumo</th>\n",
              "      <th>Eolica</th>\n",
              "      <th>Solar</th>\n",
              "      <th>Suma</th>\n",
              "    </tr>\n",
              "  </thead>\n",
              "  <tbody>\n",
              "    <tr>\n",
              "      <th>730</th>\n",
              "      <td>2008-01-01</td>\n",
              "      <td>1083.424</td>\n",
              "      <td>NaN</td>\n",
              "      <td>NaN</td>\n",
              "      <td>NaN</td>\n",
              "    </tr>\n",
              "    <tr>\n",
              "      <th>731</th>\n",
              "      <td>2008-01-02</td>\n",
              "      <td>1396.483</td>\n",
              "      <td>NaN</td>\n",
              "      <td>NaN</td>\n",
              "      <td>NaN</td>\n",
              "    </tr>\n",
              "    <tr>\n",
              "      <th>732</th>\n",
              "      <td>2008-01-03</td>\n",
              "      <td>1523.427</td>\n",
              "      <td>NaN</td>\n",
              "      <td>NaN</td>\n",
              "      <td>NaN</td>\n",
              "    </tr>\n",
              "    <tr>\n",
              "      <th>733</th>\n",
              "      <td>2008-01-04</td>\n",
              "      <td>1512.429</td>\n",
              "      <td>NaN</td>\n",
              "      <td>NaN</td>\n",
              "      <td>NaN</td>\n",
              "    </tr>\n",
              "    <tr>\n",
              "      <th>734</th>\n",
              "      <td>2008-01-05</td>\n",
              "      <td>1355.843</td>\n",
              "      <td>NaN</td>\n",
              "      <td>NaN</td>\n",
              "      <td>NaN</td>\n",
              "    </tr>\n",
              "  </tbody>\n",
              "</table>\n",
              "</div>"
            ],
            "text/plain": [
              "         Fecha   Consumo  Eolica  Solar  Suma\n",
              "730 2008-01-01  1083.424     NaN    NaN   NaN\n",
              "731 2008-01-02  1396.483     NaN    NaN   NaN\n",
              "732 2008-01-03  1523.427     NaN    NaN   NaN\n",
              "733 2008-01-04  1512.429     NaN    NaN   NaN\n",
              "734 2008-01-05  1355.843     NaN    NaN   NaN"
            ]
          },
          "execution_count": 101,
          "metadata": {},
          "output_type": "execute_result"
        }
      ],
      "source": [
        "df_energia[df_energia[\"Fecha\"].between(\"2008\", \"2010\")].head()"
      ]
    },
    {
      "cell_type": "markdown",
      "metadata": {
        "id": "QS0kuLtMXWJJ"
      },
      "source": [
        "En vez de filtrar usando años podemos pasar la fecha completa (siempre tengan presente el formato de la fecha)..."
      ]
    },
    {
      "cell_type": "code",
      "execution_count": null,
      "metadata": {
        "id": "sHKU2upFXWJJ",
        "outputId": "3d9fe5ae-5fde-4f1e-c803-aa528162204a"
      },
      "outputs": [
        {
          "data": {
            "text/html": [
              "<div>\n",
              "<style scoped>\n",
              "    .dataframe tbody tr th:only-of-type {\n",
              "        vertical-align: middle;\n",
              "    }\n",
              "\n",
              "    .dataframe tbody tr th {\n",
              "        vertical-align: top;\n",
              "    }\n",
              "\n",
              "    .dataframe thead th {\n",
              "        text-align: right;\n",
              "    }\n",
              "</style>\n",
              "<table border=\"1\" class=\"dataframe\">\n",
              "  <thead>\n",
              "    <tr style=\"text-align: right;\">\n",
              "      <th></th>\n",
              "      <th>Fecha</th>\n",
              "      <th>Consumo</th>\n",
              "      <th>Eolica</th>\n",
              "      <th>Solar</th>\n",
              "      <th>Suma</th>\n",
              "    </tr>\n",
              "  </thead>\n",
              "  <tbody>\n",
              "    <tr>\n",
              "      <th>730</th>\n",
              "      <td>2008-01-01</td>\n",
              "      <td>1083.424</td>\n",
              "      <td>NaN</td>\n",
              "      <td>NaN</td>\n",
              "      <td>NaN</td>\n",
              "    </tr>\n",
              "    <tr>\n",
              "      <th>731</th>\n",
              "      <td>2008-01-02</td>\n",
              "      <td>1396.483</td>\n",
              "      <td>NaN</td>\n",
              "      <td>NaN</td>\n",
              "      <td>NaN</td>\n",
              "    </tr>\n",
              "    <tr>\n",
              "      <th>732</th>\n",
              "      <td>2008-01-03</td>\n",
              "      <td>1523.427</td>\n",
              "      <td>NaN</td>\n",
              "      <td>NaN</td>\n",
              "      <td>NaN</td>\n",
              "    </tr>\n",
              "    <tr>\n",
              "      <th>733</th>\n",
              "      <td>2008-01-04</td>\n",
              "      <td>1512.429</td>\n",
              "      <td>NaN</td>\n",
              "      <td>NaN</td>\n",
              "      <td>NaN</td>\n",
              "    </tr>\n",
              "    <tr>\n",
              "      <th>734</th>\n",
              "      <td>2008-01-05</td>\n",
              "      <td>1355.843</td>\n",
              "      <td>NaN</td>\n",
              "      <td>NaN</td>\n",
              "      <td>NaN</td>\n",
              "    </tr>\n",
              "  </tbody>\n",
              "</table>\n",
              "</div>"
            ],
            "text/plain": [
              "         Fecha   Consumo  Eolica  Solar  Suma\n",
              "730 2008-01-01  1083.424     NaN    NaN   NaN\n",
              "731 2008-01-02  1396.483     NaN    NaN   NaN\n",
              "732 2008-01-03  1523.427     NaN    NaN   NaN\n",
              "733 2008-01-04  1512.429     NaN    NaN   NaN\n",
              "734 2008-01-05  1355.843     NaN    NaN   NaN"
            ]
          },
          "execution_count": 102,
          "metadata": {},
          "output_type": "execute_result"
        }
      ],
      "source": [
        "df_energia[df_energia[\"Fecha\"].between(\"2008-01-01\", \"2010-01-22\")].head()"
      ]
    },
    {
      "cell_type": "markdown",
      "metadata": {
        "id": "CHkC383JXWJJ"
      },
      "source": [
        "Y como si fuera poco también podemos filtrar sólo usando el año y el mes, sin especificar el día..."
      ]
    },
    {
      "cell_type": "code",
      "execution_count": null,
      "metadata": {
        "id": "Lxg2r4kbXWJJ",
        "outputId": "69ab4bf6-5b98-4055-cbbd-a44d3931d20b"
      },
      "outputs": [
        {
          "data": {
            "text/html": [
              "<div>\n",
              "<style scoped>\n",
              "    .dataframe tbody tr th:only-of-type {\n",
              "        vertical-align: middle;\n",
              "    }\n",
              "\n",
              "    .dataframe tbody tr th {\n",
              "        vertical-align: top;\n",
              "    }\n",
              "\n",
              "    .dataframe thead th {\n",
              "        text-align: right;\n",
              "    }\n",
              "</style>\n",
              "<table border=\"1\" class=\"dataframe\">\n",
              "  <thead>\n",
              "    <tr style=\"text-align: right;\">\n",
              "      <th></th>\n",
              "      <th>Fecha</th>\n",
              "      <th>Consumo</th>\n",
              "      <th>Eolica</th>\n",
              "      <th>Solar</th>\n",
              "      <th>Suma</th>\n",
              "    </tr>\n",
              "  </thead>\n",
              "  <tbody>\n",
              "    <tr>\n",
              "      <th>730</th>\n",
              "      <td>2008-01-01</td>\n",
              "      <td>1083.424</td>\n",
              "      <td>NaN</td>\n",
              "      <td>NaN</td>\n",
              "      <td>NaN</td>\n",
              "    </tr>\n",
              "    <tr>\n",
              "      <th>731</th>\n",
              "      <td>2008-01-02</td>\n",
              "      <td>1396.483</td>\n",
              "      <td>NaN</td>\n",
              "      <td>NaN</td>\n",
              "      <td>NaN</td>\n",
              "    </tr>\n",
              "    <tr>\n",
              "      <th>732</th>\n",
              "      <td>2008-01-03</td>\n",
              "      <td>1523.427</td>\n",
              "      <td>NaN</td>\n",
              "      <td>NaN</td>\n",
              "      <td>NaN</td>\n",
              "    </tr>\n",
              "    <tr>\n",
              "      <th>733</th>\n",
              "      <td>2008-01-04</td>\n",
              "      <td>1512.429</td>\n",
              "      <td>NaN</td>\n",
              "      <td>NaN</td>\n",
              "      <td>NaN</td>\n",
              "    </tr>\n",
              "    <tr>\n",
              "      <th>734</th>\n",
              "      <td>2008-01-05</td>\n",
              "      <td>1355.843</td>\n",
              "      <td>NaN</td>\n",
              "      <td>NaN</td>\n",
              "      <td>NaN</td>\n",
              "    </tr>\n",
              "  </tbody>\n",
              "</table>\n",
              "</div>"
            ],
            "text/plain": [
              "         Fecha   Consumo  Eolica  Solar  Suma\n",
              "730 2008-01-01  1083.424     NaN    NaN   NaN\n",
              "731 2008-01-02  1396.483     NaN    NaN   NaN\n",
              "732 2008-01-03  1523.427     NaN    NaN   NaN\n",
              "733 2008-01-04  1512.429     NaN    NaN   NaN\n",
              "734 2008-01-05  1355.843     NaN    NaN   NaN"
            ]
          },
          "execution_count": 103,
          "metadata": {},
          "output_type": "execute_result"
        }
      ],
      "source": [
        "df_energia[df_energia[\"Fecha\"].between(\"2008-01\", \"2010-02\")].head()"
      ]
    },
    {
      "cell_type": "code",
      "execution_count": null,
      "metadata": {
        "id": "hrMYY_F8XWJK",
        "outputId": "36d71a24-436c-4e7c-a028-41b084f13c23"
      },
      "outputs": [
        {
          "data": {
            "text/html": [
              "<div>\n",
              "<style scoped>\n",
              "    .dataframe tbody tr th:only-of-type {\n",
              "        vertical-align: middle;\n",
              "    }\n",
              "\n",
              "    .dataframe tbody tr th {\n",
              "        vertical-align: top;\n",
              "    }\n",
              "\n",
              "    .dataframe thead th {\n",
              "        text-align: right;\n",
              "    }\n",
              "</style>\n",
              "<table border=\"1\" class=\"dataframe\">\n",
              "  <thead>\n",
              "    <tr style=\"text-align: right;\">\n",
              "      <th></th>\n",
              "      <th>Fecha</th>\n",
              "      <th>Consumo</th>\n",
              "      <th>Eolica</th>\n",
              "      <th>Solar</th>\n",
              "      <th>Suma</th>\n",
              "    </tr>\n",
              "  </thead>\n",
              "  <tbody>\n",
              "    <tr>\n",
              "      <th>1488</th>\n",
              "      <td>2010-01-28</td>\n",
              "      <td>1585.269</td>\n",
              "      <td>306.149</td>\n",
              "      <td>NaN</td>\n",
              "      <td>NaN</td>\n",
              "    </tr>\n",
              "    <tr>\n",
              "      <th>1489</th>\n",
              "      <td>2010-01-29</td>\n",
              "      <td>1493.020</td>\n",
              "      <td>145.473</td>\n",
              "      <td>NaN</td>\n",
              "      <td>NaN</td>\n",
              "    </tr>\n",
              "    <tr>\n",
              "      <th>1490</th>\n",
              "      <td>2010-01-30</td>\n",
              "      <td>1322.933</td>\n",
              "      <td>189.627</td>\n",
              "      <td>NaN</td>\n",
              "      <td>NaN</td>\n",
              "    </tr>\n",
              "    <tr>\n",
              "      <th>1491</th>\n",
              "      <td>2010-01-31</td>\n",
              "      <td>1203.635</td>\n",
              "      <td>174.109</td>\n",
              "      <td>NaN</td>\n",
              "      <td>NaN</td>\n",
              "    </tr>\n",
              "    <tr>\n",
              "      <th>1492</th>\n",
              "      <td>2010-02-01</td>\n",
              "      <td>1536.453</td>\n",
              "      <td>151.409</td>\n",
              "      <td>NaN</td>\n",
              "      <td>NaN</td>\n",
              "    </tr>\n",
              "  </tbody>\n",
              "</table>\n",
              "</div>"
            ],
            "text/plain": [
              "          Fecha   Consumo   Eolica  Solar  Suma\n",
              "1488 2010-01-28  1585.269  306.149    NaN   NaN\n",
              "1489 2010-01-29  1493.020  145.473    NaN   NaN\n",
              "1490 2010-01-30  1322.933  189.627    NaN   NaN\n",
              "1491 2010-01-31  1203.635  174.109    NaN   NaN\n",
              "1492 2010-02-01  1536.453  151.409    NaN   NaN"
            ]
          },
          "execution_count": 104,
          "metadata": {},
          "output_type": "execute_result"
        }
      ],
      "source": [
        "df_energia[df_energia[\"Fecha\"].between(\"2008-01\", \"2010-02\")].tail()"
      ]
    },
    {
      "cell_type": "markdown",
      "metadata": {
        "id": "htu6QSqMXWJK"
      },
      "source": [
        "Ahora, vamos a convertir nuestra columna Fecha en un índice temporal... Esto va a crear un nuevo tipo de objeto llamado DatetimeIndex"
      ]
    },
    {
      "cell_type": "code",
      "execution_count": null,
      "metadata": {
        "id": "tZqBEjYoXWJK"
      },
      "outputs": [],
      "source": [
        "df_energia = df_energia.set_index(\"Fecha\")"
      ]
    },
    {
      "cell_type": "code",
      "execution_count": null,
      "metadata": {
        "id": "JIc_m6qjXWJK",
        "outputId": "dc657ba7-32b2-4527-9259-f5a0cd489b97"
      },
      "outputs": [
        {
          "data": {
            "text/html": [
              "<div>\n",
              "<style scoped>\n",
              "    .dataframe tbody tr th:only-of-type {\n",
              "        vertical-align: middle;\n",
              "    }\n",
              "\n",
              "    .dataframe tbody tr th {\n",
              "        vertical-align: top;\n",
              "    }\n",
              "\n",
              "    .dataframe thead th {\n",
              "        text-align: right;\n",
              "    }\n",
              "</style>\n",
              "<table border=\"1\" class=\"dataframe\">\n",
              "  <thead>\n",
              "    <tr style=\"text-align: right;\">\n",
              "      <th></th>\n",
              "      <th>Consumo</th>\n",
              "      <th>Eolica</th>\n",
              "      <th>Solar</th>\n",
              "      <th>Suma</th>\n",
              "    </tr>\n",
              "    <tr>\n",
              "      <th>Fecha</th>\n",
              "      <th></th>\n",
              "      <th></th>\n",
              "      <th></th>\n",
              "      <th></th>\n",
              "    </tr>\n",
              "  </thead>\n",
              "  <tbody>\n",
              "    <tr>\n",
              "      <th>2017-12-22</th>\n",
              "      <td>1423.23782</td>\n",
              "      <td>228.773</td>\n",
              "      <td>10.065</td>\n",
              "      <td>238.838</td>\n",
              "    </tr>\n",
              "    <tr>\n",
              "      <th>2017-12-23</th>\n",
              "      <td>1272.17085</td>\n",
              "      <td>748.074</td>\n",
              "      <td>8.450</td>\n",
              "      <td>756.524</td>\n",
              "    </tr>\n",
              "    <tr>\n",
              "      <th>2017-12-24</th>\n",
              "      <td>1141.75730</td>\n",
              "      <td>812.422</td>\n",
              "      <td>9.949</td>\n",
              "      <td>822.371</td>\n",
              "    </tr>\n",
              "    <tr>\n",
              "      <th>2017-12-25</th>\n",
              "      <td>1111.28338</td>\n",
              "      <td>587.810</td>\n",
              "      <td>15.765</td>\n",
              "      <td>603.575</td>\n",
              "    </tr>\n",
              "    <tr>\n",
              "      <th>2017-12-26</th>\n",
              "      <td>1130.11683</td>\n",
              "      <td>717.453</td>\n",
              "      <td>30.923</td>\n",
              "      <td>748.376</td>\n",
              "    </tr>\n",
              "    <tr>\n",
              "      <th>2017-12-27</th>\n",
              "      <td>1263.94091</td>\n",
              "      <td>394.507</td>\n",
              "      <td>16.530</td>\n",
              "      <td>411.037</td>\n",
              "    </tr>\n",
              "    <tr>\n",
              "      <th>2017-12-28</th>\n",
              "      <td>1299.86398</td>\n",
              "      <td>506.424</td>\n",
              "      <td>14.162</td>\n",
              "      <td>520.586</td>\n",
              "    </tr>\n",
              "    <tr>\n",
              "      <th>2017-12-29</th>\n",
              "      <td>1295.08753</td>\n",
              "      <td>584.277</td>\n",
              "      <td>29.854</td>\n",
              "      <td>614.131</td>\n",
              "    </tr>\n",
              "    <tr>\n",
              "      <th>2017-12-30</th>\n",
              "      <td>1215.44897</td>\n",
              "      <td>721.247</td>\n",
              "      <td>7.467</td>\n",
              "      <td>728.714</td>\n",
              "    </tr>\n",
              "    <tr>\n",
              "      <th>2017-12-31</th>\n",
              "      <td>1107.11488</td>\n",
              "      <td>721.176</td>\n",
              "      <td>19.980</td>\n",
              "      <td>741.156</td>\n",
              "    </tr>\n",
              "  </tbody>\n",
              "</table>\n",
              "</div>"
            ],
            "text/plain": [
              "               Consumo   Eolica   Solar     Suma\n",
              "Fecha                                           \n",
              "2017-12-22  1423.23782  228.773  10.065  238.838\n",
              "2017-12-23  1272.17085  748.074   8.450  756.524\n",
              "2017-12-24  1141.75730  812.422   9.949  822.371\n",
              "2017-12-25  1111.28338  587.810  15.765  603.575\n",
              "2017-12-26  1130.11683  717.453  30.923  748.376\n",
              "2017-12-27  1263.94091  394.507  16.530  411.037\n",
              "2017-12-28  1299.86398  506.424  14.162  520.586\n",
              "2017-12-29  1295.08753  584.277  29.854  614.131\n",
              "2017-12-30  1215.44897  721.247   7.467  728.714\n",
              "2017-12-31  1107.11488  721.176  19.980  741.156"
            ]
          },
          "execution_count": 106,
          "metadata": {},
          "output_type": "execute_result"
        }
      ],
      "source": [
        "df_energia.tail(10)"
      ]
    },
    {
      "cell_type": "code",
      "execution_count": null,
      "metadata": {
        "id": "0e0pdtFwXWJL",
        "outputId": "bb12bee2-b4b8-427a-c164-f86febae0bd5"
      },
      "outputs": [
        {
          "data": {
            "text/plain": [
              "DatetimeIndex(['2006-01-01', '2006-01-02', '2006-01-03', '2006-01-04',\n",
              "               '2006-01-05', '2006-01-06', '2006-01-07', '2006-01-08',\n",
              "               '2006-01-09', '2006-01-10',\n",
              "               ...\n",
              "               '2017-12-22', '2017-12-23', '2017-12-24', '2017-12-25',\n",
              "               '2017-12-26', '2017-12-27', '2017-12-28', '2017-12-29',\n",
              "               '2017-12-30', '2017-12-31'],\n",
              "              dtype='datetime64[ns]', name='Fecha', length=4383, freq=None)"
            ]
          },
          "execution_count": 107,
          "metadata": {},
          "output_type": "execute_result"
        }
      ],
      "source": [
        "df_energia.index"
      ]
    },
    {
      "cell_type": "markdown",
      "metadata": {
        "id": "WhGQb8bAXWJL"
      },
      "source": [
        "Primeramente vamos a agregar columnas que nos proporcionen mas informacion sobre las fechas"
      ]
    },
    {
      "cell_type": "code",
      "execution_count": null,
      "metadata": {
        "id": "S6MTpBKqXWJL",
        "outputId": "869ba189-e4aa-4c2f-9ccf-e6a161d13a43"
      },
      "outputs": [
        {
          "data": {
            "text/html": [
              "<div>\n",
              "<style scoped>\n",
              "    .dataframe tbody tr th:only-of-type {\n",
              "        vertical-align: middle;\n",
              "    }\n",
              "\n",
              "    .dataframe tbody tr th {\n",
              "        vertical-align: top;\n",
              "    }\n",
              "\n",
              "    .dataframe thead th {\n",
              "        text-align: right;\n",
              "    }\n",
              "</style>\n",
              "<table border=\"1\" class=\"dataframe\">\n",
              "  <thead>\n",
              "    <tr style=\"text-align: right;\">\n",
              "      <th></th>\n",
              "      <th>Consumo</th>\n",
              "      <th>Eolica</th>\n",
              "      <th>Solar</th>\n",
              "      <th>Suma</th>\n",
              "      <th>Anio</th>\n",
              "      <th>Mes</th>\n",
              "      <th>Dia</th>\n",
              "    </tr>\n",
              "    <tr>\n",
              "      <th>Fecha</th>\n",
              "      <th></th>\n",
              "      <th></th>\n",
              "      <th></th>\n",
              "      <th></th>\n",
              "      <th></th>\n",
              "      <th></th>\n",
              "      <th></th>\n",
              "    </tr>\n",
              "  </thead>\n",
              "  <tbody>\n",
              "    <tr>\n",
              "      <th>2008-08-23</th>\n",
              "      <td>1152.011</td>\n",
              "      <td>NaN</td>\n",
              "      <td>NaN</td>\n",
              "      <td>NaN</td>\n",
              "      <td>2008</td>\n",
              "      <td>8</td>\n",
              "      <td>Saturday</td>\n",
              "    </tr>\n",
              "    <tr>\n",
              "      <th>2013-08-08</th>\n",
              "      <td>1291.984</td>\n",
              "      <td>79.666</td>\n",
              "      <td>93.371</td>\n",
              "      <td>173.037</td>\n",
              "      <td>2013</td>\n",
              "      <td>8</td>\n",
              "      <td>Thursday</td>\n",
              "    </tr>\n",
              "    <tr>\n",
              "      <th>2009-08-27</th>\n",
              "      <td>1281.057</td>\n",
              "      <td>NaN</td>\n",
              "      <td>NaN</td>\n",
              "      <td>NaN</td>\n",
              "      <td>2009</td>\n",
              "      <td>8</td>\n",
              "      <td>Thursday</td>\n",
              "    </tr>\n",
              "    <tr>\n",
              "      <th>2015-10-02</th>\n",
              "      <td>1391.050</td>\n",
              "      <td>81.229</td>\n",
              "      <td>160.641</td>\n",
              "      <td>241.870</td>\n",
              "      <td>2015</td>\n",
              "      <td>10</td>\n",
              "      <td>Friday</td>\n",
              "    </tr>\n",
              "    <tr>\n",
              "      <th>2009-06-02</th>\n",
              "      <td>1201.522</td>\n",
              "      <td>NaN</td>\n",
              "      <td>NaN</td>\n",
              "      <td>NaN</td>\n",
              "      <td>2009</td>\n",
              "      <td>6</td>\n",
              "      <td>Tuesday</td>\n",
              "    </tr>\n",
              "  </tbody>\n",
              "</table>\n",
              "</div>"
            ],
            "text/plain": [
              "             Consumo  Eolica    Solar     Suma  Anio  Mes       Dia\n",
              "Fecha                                                              \n",
              "2008-08-23  1152.011     NaN      NaN      NaN  2008    8  Saturday\n",
              "2013-08-08  1291.984  79.666   93.371  173.037  2013    8  Thursday\n",
              "2009-08-27  1281.057     NaN      NaN      NaN  2009    8  Thursday\n",
              "2015-10-02  1391.050  81.229  160.641  241.870  2015   10    Friday\n",
              "2009-06-02  1201.522     NaN      NaN      NaN  2009    6   Tuesday"
            ]
          },
          "execution_count": 108,
          "metadata": {},
          "output_type": "execute_result"
        }
      ],
      "source": [
        "df_energia['Anio'] = df_energia.index.year\n",
        "df_energia['Mes'] = df_energia.index.month\n",
        "df_energia['Dia'] = df_energia.index.day_name()\n",
        "df_energia.sample(5, random_state=0)"
      ]
    },
    {
      "cell_type": "markdown",
      "metadata": {
        "id": "_I3blWriXWJM"
      },
      "source": [
        "Como creamos el indice por las fechas, podemos localizar cualquier dia que querramos ahora"
      ]
    },
    {
      "cell_type": "code",
      "execution_count": null,
      "metadata": {
        "id": "xVDPhD65XWJN",
        "outputId": "8c7dc75d-c4e8-4ef2-8035-b8b52ae9e64f"
      },
      "outputs": [
        {
          "data": {
            "text/plain": [
              "Consumo     1351.49\n",
              "Eolica      100.274\n",
              "Solar         71.16\n",
              "Suma        171.434\n",
              "Anio           2017\n",
              "Mes               8\n",
              "Dia        Thursday\n",
              "Name: 2017-08-10 00:00:00, dtype: object"
            ]
          },
          "execution_count": 109,
          "metadata": {},
          "output_type": "execute_result"
        }
      ],
      "source": [
        "df_energia.loc['2017-08-10']"
      ]
    },
    {
      "cell_type": "markdown",
      "metadata": {
        "id": "1amuwuNiXWJO"
      },
      "source": [
        "Incluso podemos buscar rangos de fechas"
      ]
    },
    {
      "cell_type": "code",
      "execution_count": null,
      "metadata": {
        "id": "w-07zUpsXWJO",
        "outputId": "1e086806-e24f-47c0-fda4-8baa320ff2a4"
      },
      "outputs": [
        {
          "data": {
            "text/html": [
              "<div>\n",
              "<style scoped>\n",
              "    .dataframe tbody tr th:only-of-type {\n",
              "        vertical-align: middle;\n",
              "    }\n",
              "\n",
              "    .dataframe tbody tr th {\n",
              "        vertical-align: top;\n",
              "    }\n",
              "\n",
              "    .dataframe thead th {\n",
              "        text-align: right;\n",
              "    }\n",
              "</style>\n",
              "<table border=\"1\" class=\"dataframe\">\n",
              "  <thead>\n",
              "    <tr style=\"text-align: right;\">\n",
              "      <th></th>\n",
              "      <th>Consumo</th>\n",
              "      <th>Eolica</th>\n",
              "      <th>Solar</th>\n",
              "      <th>Suma</th>\n",
              "      <th>Anio</th>\n",
              "      <th>Mes</th>\n",
              "      <th>Dia</th>\n",
              "    </tr>\n",
              "    <tr>\n",
              "      <th>Fecha</th>\n",
              "      <th></th>\n",
              "      <th></th>\n",
              "      <th></th>\n",
              "      <th></th>\n",
              "      <th></th>\n",
              "      <th></th>\n",
              "      <th></th>\n",
              "    </tr>\n",
              "  </thead>\n",
              "  <tbody>\n",
              "    <tr>\n",
              "      <th>2014-01-20</th>\n",
              "      <td>1590.687</td>\n",
              "      <td>78.647</td>\n",
              "      <td>6.371</td>\n",
              "      <td>85.018</td>\n",
              "      <td>2014</td>\n",
              "      <td>1</td>\n",
              "      <td>Monday</td>\n",
              "    </tr>\n",
              "    <tr>\n",
              "      <th>2014-01-21</th>\n",
              "      <td>1624.806</td>\n",
              "      <td>15.643</td>\n",
              "      <td>5.835</td>\n",
              "      <td>21.478</td>\n",
              "      <td>2014</td>\n",
              "      <td>1</td>\n",
              "      <td>Tuesday</td>\n",
              "    </tr>\n",
              "    <tr>\n",
              "      <th>2014-01-22</th>\n",
              "      <td>1625.155</td>\n",
              "      <td>60.259</td>\n",
              "      <td>11.992</td>\n",
              "      <td>72.251</td>\n",
              "      <td>2014</td>\n",
              "      <td>1</td>\n",
              "      <td>Wednesday</td>\n",
              "    </tr>\n",
              "  </tbody>\n",
              "</table>\n",
              "</div>"
            ],
            "text/plain": [
              "             Consumo  Eolica   Solar    Suma  Anio  Mes        Dia\n",
              "Fecha                                                             \n",
              "2014-01-20  1590.687  78.647   6.371  85.018  2014    1     Monday\n",
              "2014-01-21  1624.806  15.643   5.835  21.478  2014    1    Tuesday\n",
              "2014-01-22  1625.155  60.259  11.992  72.251  2014    1  Wednesday"
            ]
          },
          "execution_count": 110,
          "metadata": {},
          "output_type": "execute_result"
        }
      ],
      "source": [
        "df_energia.loc['2014-01-20':'2014-01-22']"
      ]
    },
    {
      "cell_type": "markdown",
      "metadata": {
        "id": "XSLOPQebXWJO"
      },
      "source": [
        "O buscar por algun mes en particular"
      ]
    },
    {
      "cell_type": "code",
      "execution_count": null,
      "metadata": {
        "id": "tPfFIfeJXWJO",
        "outputId": "ad1110e5-312a-481d-f461-ed189a750282"
      },
      "outputs": [
        {
          "data": {
            "text/html": [
              "<div>\n",
              "<style scoped>\n",
              "    .dataframe tbody tr th:only-of-type {\n",
              "        vertical-align: middle;\n",
              "    }\n",
              "\n",
              "    .dataframe tbody tr th {\n",
              "        vertical-align: top;\n",
              "    }\n",
              "\n",
              "    .dataframe thead th {\n",
              "        text-align: right;\n",
              "    }\n",
              "</style>\n",
              "<table border=\"1\" class=\"dataframe\">\n",
              "  <thead>\n",
              "    <tr style=\"text-align: right;\">\n",
              "      <th></th>\n",
              "      <th>Consumo</th>\n",
              "      <th>Eolica</th>\n",
              "      <th>Solar</th>\n",
              "      <th>Suma</th>\n",
              "      <th>Anio</th>\n",
              "      <th>Mes</th>\n",
              "      <th>Dia</th>\n",
              "    </tr>\n",
              "    <tr>\n",
              "      <th>Fecha</th>\n",
              "      <th></th>\n",
              "      <th></th>\n",
              "      <th></th>\n",
              "      <th></th>\n",
              "      <th></th>\n",
              "      <th></th>\n",
              "      <th></th>\n",
              "    </tr>\n",
              "  </thead>\n",
              "  <tbody>\n",
              "    <tr>\n",
              "      <th>2016-05-01</th>\n",
              "      <td>1078.602</td>\n",
              "      <td>179.870</td>\n",
              "      <td>147.931</td>\n",
              "      <td>327.801</td>\n",
              "      <td>2016</td>\n",
              "      <td>5</td>\n",
              "      <td>Sunday</td>\n",
              "    </tr>\n",
              "    <tr>\n",
              "      <th>2016-05-02</th>\n",
              "      <td>1405.185</td>\n",
              "      <td>81.868</td>\n",
              "      <td>197.183</td>\n",
              "      <td>279.051</td>\n",
              "      <td>2016</td>\n",
              "      <td>5</td>\n",
              "      <td>Monday</td>\n",
              "    </tr>\n",
              "    <tr>\n",
              "      <th>2016-05-03</th>\n",
              "      <td>1462.935</td>\n",
              "      <td>208.678</td>\n",
              "      <td>139.151</td>\n",
              "      <td>347.829</td>\n",
              "      <td>2016</td>\n",
              "      <td>5</td>\n",
              "      <td>Tuesday</td>\n",
              "    </tr>\n",
              "    <tr>\n",
              "      <th>2016-05-04</th>\n",
              "      <td>1430.136</td>\n",
              "      <td>84.961</td>\n",
              "      <td>174.185</td>\n",
              "      <td>259.146</td>\n",
              "      <td>2016</td>\n",
              "      <td>5</td>\n",
              "      <td>Wednesday</td>\n",
              "    </tr>\n",
              "    <tr>\n",
              "      <th>2016-05-05</th>\n",
              "      <td>1111.379</td>\n",
              "      <td>150.624</td>\n",
              "      <td>212.713</td>\n",
              "      <td>363.337</td>\n",
              "      <td>2016</td>\n",
              "      <td>5</td>\n",
              "      <td>Thursday</td>\n",
              "    </tr>\n",
              "    <tr>\n",
              "      <th>2016-05-06</th>\n",
              "      <td>1254.051</td>\n",
              "      <td>255.574</td>\n",
              "      <td>217.569</td>\n",
              "      <td>473.143</td>\n",
              "      <td>2016</td>\n",
              "      <td>5</td>\n",
              "      <td>Friday</td>\n",
              "    </tr>\n",
              "    <tr>\n",
              "      <th>2016-05-07</th>\n",
              "      <td>1149.938</td>\n",
              "      <td>315.362</td>\n",
              "      <td>215.963</td>\n",
              "      <td>531.325</td>\n",
              "      <td>2016</td>\n",
              "      <td>5</td>\n",
              "      <td>Saturday</td>\n",
              "    </tr>\n",
              "    <tr>\n",
              "      <th>2016-05-08</th>\n",
              "      <td>1072.653</td>\n",
              "      <td>390.557</td>\n",
              "      <td>217.819</td>\n",
              "      <td>608.376</td>\n",
              "      <td>2016</td>\n",
              "      <td>5</td>\n",
              "      <td>Sunday</td>\n",
              "    </tr>\n",
              "    <tr>\n",
              "      <th>2016-05-09</th>\n",
              "      <td>1403.845</td>\n",
              "      <td>360.421</td>\n",
              "      <td>207.427</td>\n",
              "      <td>567.848</td>\n",
              "      <td>2016</td>\n",
              "      <td>5</td>\n",
              "      <td>Monday</td>\n",
              "    </tr>\n",
              "    <tr>\n",
              "      <th>2016-05-10</th>\n",
              "      <td>1431.813</td>\n",
              "      <td>258.663</td>\n",
              "      <td>157.710</td>\n",
              "      <td>416.373</td>\n",
              "      <td>2016</td>\n",
              "      <td>5</td>\n",
              "      <td>Tuesday</td>\n",
              "    </tr>\n",
              "    <tr>\n",
              "      <th>2016-05-11</th>\n",
              "      <td>1441.717</td>\n",
              "      <td>304.436</td>\n",
              "      <td>180.639</td>\n",
              "      <td>485.075</td>\n",
              "      <td>2016</td>\n",
              "      <td>5</td>\n",
              "      <td>Wednesday</td>\n",
              "    </tr>\n",
              "    <tr>\n",
              "      <th>2016-05-12</th>\n",
              "      <td>1444.324</td>\n",
              "      <td>319.678</td>\n",
              "      <td>129.861</td>\n",
              "      <td>449.539</td>\n",
              "      <td>2016</td>\n",
              "      <td>5</td>\n",
              "      <td>Thursday</td>\n",
              "    </tr>\n",
              "    <tr>\n",
              "      <th>2016-05-13</th>\n",
              "      <td>1405.332</td>\n",
              "      <td>216.936</td>\n",
              "      <td>135.926</td>\n",
              "      <td>352.862</td>\n",
              "      <td>2016</td>\n",
              "      <td>5</td>\n",
              "      <td>Friday</td>\n",
              "    </tr>\n",
              "    <tr>\n",
              "      <th>2016-05-14</th>\n",
              "      <td>1168.618</td>\n",
              "      <td>387.183</td>\n",
              "      <td>132.009</td>\n",
              "      <td>519.192</td>\n",
              "      <td>2016</td>\n",
              "      <td>5</td>\n",
              "      <td>Saturday</td>\n",
              "    </tr>\n",
              "    <tr>\n",
              "      <th>2016-05-15</th>\n",
              "      <td>1048.215</td>\n",
              "      <td>391.687</td>\n",
              "      <td>130.935</td>\n",
              "      <td>522.622</td>\n",
              "      <td>2016</td>\n",
              "      <td>5</td>\n",
              "      <td>Sunday</td>\n",
              "    </tr>\n",
              "    <tr>\n",
              "      <th>2016-05-16</th>\n",
              "      <td>1080.327</td>\n",
              "      <td>264.281</td>\n",
              "      <td>115.660</td>\n",
              "      <td>379.941</td>\n",
              "      <td>2016</td>\n",
              "      <td>5</td>\n",
              "      <td>Monday</td>\n",
              "    </tr>\n",
              "    <tr>\n",
              "      <th>2016-05-17</th>\n",
              "      <td>1406.559</td>\n",
              "      <td>193.380</td>\n",
              "      <td>113.156</td>\n",
              "      <td>306.536</td>\n",
              "      <td>2016</td>\n",
              "      <td>5</td>\n",
              "      <td>Tuesday</td>\n",
              "    </tr>\n",
              "    <tr>\n",
              "      <th>2016-05-18</th>\n",
              "      <td>1432.772</td>\n",
              "      <td>88.949</td>\n",
              "      <td>151.707</td>\n",
              "      <td>240.656</td>\n",
              "      <td>2016</td>\n",
              "      <td>5</td>\n",
              "      <td>Wednesday</td>\n",
              "    </tr>\n",
              "    <tr>\n",
              "      <th>2016-05-19</th>\n",
              "      <td>1436.909</td>\n",
              "      <td>60.078</td>\n",
              "      <td>119.795</td>\n",
              "      <td>179.873</td>\n",
              "      <td>2016</td>\n",
              "      <td>5</td>\n",
              "      <td>Thursday</td>\n",
              "    </tr>\n",
              "    <tr>\n",
              "      <th>2016-05-20</th>\n",
              "      <td>1415.619</td>\n",
              "      <td>179.200</td>\n",
              "      <td>144.397</td>\n",
              "      <td>323.597</td>\n",
              "      <td>2016</td>\n",
              "      <td>5</td>\n",
              "      <td>Friday</td>\n",
              "    </tr>\n",
              "    <tr>\n",
              "      <th>2016-05-21</th>\n",
              "      <td>1175.567</td>\n",
              "      <td>133.517</td>\n",
              "      <td>186.839</td>\n",
              "      <td>320.356</td>\n",
              "      <td>2016</td>\n",
              "      <td>5</td>\n",
              "      <td>Saturday</td>\n",
              "    </tr>\n",
              "    <tr>\n",
              "      <th>2016-05-22</th>\n",
              "      <td>1099.152</td>\n",
              "      <td>217.768</td>\n",
              "      <td>185.444</td>\n",
              "      <td>403.212</td>\n",
              "      <td>2016</td>\n",
              "      <td>5</td>\n",
              "      <td>Sunday</td>\n",
              "    </tr>\n",
              "    <tr>\n",
              "      <th>2016-05-23</th>\n",
              "      <td>1430.635</td>\n",
              "      <td>179.097</td>\n",
              "      <td>83.886</td>\n",
              "      <td>262.983</td>\n",
              "      <td>2016</td>\n",
              "      <td>5</td>\n",
              "      <td>Monday</td>\n",
              "    </tr>\n",
              "    <tr>\n",
              "      <th>2016-05-24</th>\n",
              "      <td>1454.007</td>\n",
              "      <td>179.908</td>\n",
              "      <td>57.672</td>\n",
              "      <td>237.580</td>\n",
              "      <td>2016</td>\n",
              "      <td>5</td>\n",
              "      <td>Tuesday</td>\n",
              "    </tr>\n",
              "    <tr>\n",
              "      <th>2016-05-25</th>\n",
              "      <td>1426.676</td>\n",
              "      <td>27.068</td>\n",
              "      <td>100.661</td>\n",
              "      <td>127.729</td>\n",
              "      <td>2016</td>\n",
              "      <td>5</td>\n",
              "      <td>Wednesday</td>\n",
              "    </tr>\n",
              "    <tr>\n",
              "      <th>2016-05-26</th>\n",
              "      <td>1221.096</td>\n",
              "      <td>21.700</td>\n",
              "      <td>169.098</td>\n",
              "      <td>190.798</td>\n",
              "      <td>2016</td>\n",
              "      <td>5</td>\n",
              "      <td>Thursday</td>\n",
              "    </tr>\n",
              "    <tr>\n",
              "      <th>2016-05-27</th>\n",
              "      <td>1313.710</td>\n",
              "      <td>37.271</td>\n",
              "      <td>143.397</td>\n",
              "      <td>180.668</td>\n",
              "      <td>2016</td>\n",
              "      <td>5</td>\n",
              "      <td>Friday</td>\n",
              "    </tr>\n",
              "    <tr>\n",
              "      <th>2016-05-28</th>\n",
              "      <td>1169.531</td>\n",
              "      <td>85.468</td>\n",
              "      <td>160.593</td>\n",
              "      <td>246.061</td>\n",
              "      <td>2016</td>\n",
              "      <td>5</td>\n",
              "      <td>Saturday</td>\n",
              "    </tr>\n",
              "    <tr>\n",
              "      <th>2016-05-29</th>\n",
              "      <td>1096.905</td>\n",
              "      <td>163.103</td>\n",
              "      <td>124.929</td>\n",
              "      <td>288.032</td>\n",
              "      <td>2016</td>\n",
              "      <td>5</td>\n",
              "      <td>Sunday</td>\n",
              "    </tr>\n",
              "    <tr>\n",
              "      <th>2016-05-30</th>\n",
              "      <td>1423.574</td>\n",
              "      <td>246.019</td>\n",
              "      <td>121.137</td>\n",
              "      <td>367.156</td>\n",
              "      <td>2016</td>\n",
              "      <td>5</td>\n",
              "      <td>Monday</td>\n",
              "    </tr>\n",
              "    <tr>\n",
              "      <th>2016-05-31</th>\n",
              "      <td>1435.085</td>\n",
              "      <td>106.179</td>\n",
              "      <td>141.406</td>\n",
              "      <td>247.585</td>\n",
              "      <td>2016</td>\n",
              "      <td>5</td>\n",
              "      <td>Tuesday</td>\n",
              "    </tr>\n",
              "  </tbody>\n",
              "</table>\n",
              "</div>"
            ],
            "text/plain": [
              "             Consumo   Eolica    Solar     Suma  Anio  Mes        Dia\n",
              "Fecha                                                                \n",
              "2016-05-01  1078.602  179.870  147.931  327.801  2016    5     Sunday\n",
              "2016-05-02  1405.185   81.868  197.183  279.051  2016    5     Monday\n",
              "2016-05-03  1462.935  208.678  139.151  347.829  2016    5    Tuesday\n",
              "2016-05-04  1430.136   84.961  174.185  259.146  2016    5  Wednesday\n",
              "2016-05-05  1111.379  150.624  212.713  363.337  2016    5   Thursday\n",
              "2016-05-06  1254.051  255.574  217.569  473.143  2016    5     Friday\n",
              "2016-05-07  1149.938  315.362  215.963  531.325  2016    5   Saturday\n",
              "2016-05-08  1072.653  390.557  217.819  608.376  2016    5     Sunday\n",
              "2016-05-09  1403.845  360.421  207.427  567.848  2016    5     Monday\n",
              "2016-05-10  1431.813  258.663  157.710  416.373  2016    5    Tuesday\n",
              "2016-05-11  1441.717  304.436  180.639  485.075  2016    5  Wednesday\n",
              "2016-05-12  1444.324  319.678  129.861  449.539  2016    5   Thursday\n",
              "2016-05-13  1405.332  216.936  135.926  352.862  2016    5     Friday\n",
              "2016-05-14  1168.618  387.183  132.009  519.192  2016    5   Saturday\n",
              "2016-05-15  1048.215  391.687  130.935  522.622  2016    5     Sunday\n",
              "2016-05-16  1080.327  264.281  115.660  379.941  2016    5     Monday\n",
              "2016-05-17  1406.559  193.380  113.156  306.536  2016    5    Tuesday\n",
              "2016-05-18  1432.772   88.949  151.707  240.656  2016    5  Wednesday\n",
              "2016-05-19  1436.909   60.078  119.795  179.873  2016    5   Thursday\n",
              "2016-05-20  1415.619  179.200  144.397  323.597  2016    5     Friday\n",
              "2016-05-21  1175.567  133.517  186.839  320.356  2016    5   Saturday\n",
              "2016-05-22  1099.152  217.768  185.444  403.212  2016    5     Sunday\n",
              "2016-05-23  1430.635  179.097   83.886  262.983  2016    5     Monday\n",
              "2016-05-24  1454.007  179.908   57.672  237.580  2016    5    Tuesday\n",
              "2016-05-25  1426.676   27.068  100.661  127.729  2016    5  Wednesday\n",
              "2016-05-26  1221.096   21.700  169.098  190.798  2016    5   Thursday\n",
              "2016-05-27  1313.710   37.271  143.397  180.668  2016    5     Friday\n",
              "2016-05-28  1169.531   85.468  160.593  246.061  2016    5   Saturday\n",
              "2016-05-29  1096.905  163.103  124.929  288.032  2016    5     Sunday\n",
              "2016-05-30  1423.574  246.019  121.137  367.156  2016    5     Monday\n",
              "2016-05-31  1435.085  106.179  141.406  247.585  2016    5    Tuesday"
            ]
          },
          "execution_count": 111,
          "metadata": {},
          "output_type": "execute_result"
        }
      ],
      "source": [
        "df_energia.loc['2016-05']"
      ]
    },
    {
      "cell_type": "markdown",
      "metadata": {
        "id": "CKfVec37XWJP"
      },
      "source": [
        "Ahora veamos como se ve nuestra data de consumo de energia"
      ]
    },
    {
      "cell_type": "code",
      "execution_count": null,
      "metadata": {
        "id": "yJ0KEhuOXWJP",
        "outputId": "ec33313a-67bd-45f3-f743-2ab1a1fa4df5"
      },
      "outputs": [
        {
          "data": {
            "image/png": "[encoded data removed]",
            "text/plain": [
              "<Figure size 432x288 with 1 Axes>"
            ]
          },
          "metadata": {
            "needs_background": "light"
          },
          "output_type": "display_data"
        }
      ],
      "source": [
        "#! pip install seaborn\n",
        "import matplotlib.pyplot as plt\n",
        "import seaborn as sns\n",
        "df_energia['Consumo'].plot(linewidth=0.5);"
      ]
    },
    {
      "cell_type": "markdown",
      "metadata": {
        "id": "RlXAkry5XWJP"
      },
      "source": [
        "## Ventanas y Medias moviles\n",
        "\n",
        "Las ventanas moviles se refiere a aplicar alguna operacion de agregacion, por ejemplo el promedio sobre un conjunto de datos ordenados a la vez, por ejemplo el promedio de los ultimos 6 dias sobre cada conjunto ordenado de 6 dias en el dataset. Veamos un ejemplo para entenderlo mejor"
      ]
    },
    {
      "cell_type": "code",
      "execution_count": null,
      "metadata": {
        "id": "RupS58WxXWJQ",
        "outputId": "cca21b96-f57c-4fcb-e6fc-aa48ee817b86"
      },
      "outputs": [
        {
          "data": {
            "text/plain": [
              "Fecha\n",
              "2006-01-01            NaN\n",
              "2006-01-02            NaN\n",
              "2006-01-03            NaN\n",
              "2006-01-04            NaN\n",
              "2006-01-05            NaN\n",
              "2006-01-06    1371.668833\n",
              "2006-01-07    1410.186000\n",
              "2006-01-08    1381.430000\n",
              "2006-01-09    1395.895000\n",
              "2006-01-10    1415.844000\n",
              "Name: Consumo, dtype: float64"
            ]
          },
          "execution_count": 113,
          "metadata": {},
          "output_type": "execute_result"
        }
      ],
      "source": [
        "opsd_7d = df_energia[\"Consumo\"].rolling(6).mean()\n",
        "opsd_7d.head(10)"
      ]
    },
    {
      "cell_type": "markdown",
      "metadata": {
        "id": "M1tFmlnrXWJQ"
      },
      "source": [
        "Podemos observar como las primeras 5 mediciones son Nan, ya que utiliza los primeros 5 valores para calcular a partir del 6to dia la media. El valor en el 7mo dia va a ser calculado con los datos del 2do al 6to dia, y asi sucesivamente."
      ]
    },
    {
      "cell_type": "markdown",
      "metadata": {
        "id": "MKliCnMiXWJQ"
      },
      "source": [
        "Este tipo de metodos son particularmente utiles en analisis financiero."
      ]
    },
    {
      "cell_type": "markdown",
      "metadata": {
        "id": "EZAbEhSwXWJR"
      },
      "source": [
        "## Shift y Diff\n",
        "\n",
        "La operacion de Shift, como su nombre lo dice traducido al castellano, desplazar los datos una cantidad N de periodos. Veamoslo con el ejemplo del consumo, suponiendo que quiero crear otra columna con el consumo total del periodo anterior para poder compararlo con el actual"
      ]
    },
    {
      "cell_type": "code",
      "execution_count": null,
      "metadata": {
        "id": "Cb2mm4CkXWJR"
      },
      "outputs": [],
      "source": [
        "df_energia['ConsumoAyer'] = df_energia['Suma'].shift(periods=1)\n"
      ]
    },
    {
      "cell_type": "markdown",
      "metadata": {
        "id": "i5z1MlnvXWJR"
      },
      "source": [
        "Veamos como quedo ahora el dataset"
      ]
    },
    {
      "cell_type": "code",
      "execution_count": null,
      "metadata": {
        "id": "EDZvgSfjXWJS",
        "outputId": "1eef59af-43ee-488d-a587-e38884137e0c"
      },
      "outputs": [
        {
          "data": {
            "text/html": [
              "<div>\n",
              "<style scoped>\n",
              "    .dataframe tbody tr th:only-of-type {\n",
              "        vertical-align: middle;\n",
              "    }\n",
              "\n",
              "    .dataframe tbody tr th {\n",
              "        vertical-align: top;\n",
              "    }\n",
              "\n",
              "    .dataframe thead th {\n",
              "        text-align: right;\n",
              "    }\n",
              "</style>\n",
              "<table border=\"1\" class=\"dataframe\">\n",
              "  <thead>\n",
              "    <tr style=\"text-align: right;\">\n",
              "      <th></th>\n",
              "      <th>Consumo</th>\n",
              "      <th>Eolica</th>\n",
              "      <th>Solar</th>\n",
              "      <th>Suma</th>\n",
              "      <th>Anio</th>\n",
              "      <th>Mes</th>\n",
              "      <th>Dia</th>\n",
              "      <th>ConsumoAyer</th>\n",
              "    </tr>\n",
              "    <tr>\n",
              "      <th>Fecha</th>\n",
              "      <th></th>\n",
              "      <th></th>\n",
              "      <th></th>\n",
              "      <th></th>\n",
              "      <th></th>\n",
              "      <th></th>\n",
              "      <th></th>\n",
              "      <th></th>\n",
              "    </tr>\n",
              "  </thead>\n",
              "  <tbody>\n",
              "    <tr>\n",
              "      <th>2017-12-22</th>\n",
              "      <td>1423.23782</td>\n",
              "      <td>228.773</td>\n",
              "      <td>10.065</td>\n",
              "      <td>238.838</td>\n",
              "      <td>2017</td>\n",
              "      <td>12</td>\n",
              "      <td>Friday</td>\n",
              "      <td>266.352</td>\n",
              "    </tr>\n",
              "    <tr>\n",
              "      <th>2017-12-23</th>\n",
              "      <td>1272.17085</td>\n",
              "      <td>748.074</td>\n",
              "      <td>8.450</td>\n",
              "      <td>756.524</td>\n",
              "      <td>2017</td>\n",
              "      <td>12</td>\n",
              "      <td>Saturday</td>\n",
              "      <td>238.838</td>\n",
              "    </tr>\n",
              "    <tr>\n",
              "      <th>2017-12-24</th>\n",
              "      <td>1141.75730</td>\n",
              "      <td>812.422</td>\n",
              "      <td>9.949</td>\n",
              "      <td>822.371</td>\n",
              "      <td>2017</td>\n",
              "      <td>12</td>\n",
              "      <td>Sunday</td>\n",
              "      <td>756.524</td>\n",
              "    </tr>\n",
              "    <tr>\n",
              "      <th>2017-12-25</th>\n",
              "      <td>1111.28338</td>\n",
              "      <td>587.810</td>\n",
              "      <td>15.765</td>\n",
              "      <td>603.575</td>\n",
              "      <td>2017</td>\n",
              "      <td>12</td>\n",
              "      <td>Monday</td>\n",
              "      <td>822.371</td>\n",
              "    </tr>\n",
              "    <tr>\n",
              "      <th>2017-12-26</th>\n",
              "      <td>1130.11683</td>\n",
              "      <td>717.453</td>\n",
              "      <td>30.923</td>\n",
              "      <td>748.376</td>\n",
              "      <td>2017</td>\n",
              "      <td>12</td>\n",
              "      <td>Tuesday</td>\n",
              "      <td>603.575</td>\n",
              "    </tr>\n",
              "    <tr>\n",
              "      <th>2017-12-27</th>\n",
              "      <td>1263.94091</td>\n",
              "      <td>394.507</td>\n",
              "      <td>16.530</td>\n",
              "      <td>411.037</td>\n",
              "      <td>2017</td>\n",
              "      <td>12</td>\n",
              "      <td>Wednesday</td>\n",
              "      <td>748.376</td>\n",
              "    </tr>\n",
              "    <tr>\n",
              "      <th>2017-12-28</th>\n",
              "      <td>1299.86398</td>\n",
              "      <td>506.424</td>\n",
              "      <td>14.162</td>\n",
              "      <td>520.586</td>\n",
              "      <td>2017</td>\n",
              "      <td>12</td>\n",
              "      <td>Thursday</td>\n",
              "      <td>411.037</td>\n",
              "    </tr>\n",
              "    <tr>\n",
              "      <th>2017-12-29</th>\n",
              "      <td>1295.08753</td>\n",
              "      <td>584.277</td>\n",
              "      <td>29.854</td>\n",
              "      <td>614.131</td>\n",
              "      <td>2017</td>\n",
              "      <td>12</td>\n",
              "      <td>Friday</td>\n",
              "      <td>520.586</td>\n",
              "    </tr>\n",
              "    <tr>\n",
              "      <th>2017-12-30</th>\n",
              "      <td>1215.44897</td>\n",
              "      <td>721.247</td>\n",
              "      <td>7.467</td>\n",
              "      <td>728.714</td>\n",
              "      <td>2017</td>\n",
              "      <td>12</td>\n",
              "      <td>Saturday</td>\n",
              "      <td>614.131</td>\n",
              "    </tr>\n",
              "    <tr>\n",
              "      <th>2017-12-31</th>\n",
              "      <td>1107.11488</td>\n",
              "      <td>721.176</td>\n",
              "      <td>19.980</td>\n",
              "      <td>741.156</td>\n",
              "      <td>2017</td>\n",
              "      <td>12</td>\n",
              "      <td>Sunday</td>\n",
              "      <td>728.714</td>\n",
              "    </tr>\n",
              "  </tbody>\n",
              "</table>\n",
              "</div>"
            ],
            "text/plain": [
              "               Consumo   Eolica   Solar     Suma  Anio  Mes        Dia  \\\n",
              "Fecha                                                                    \n",
              "2017-12-22  1423.23782  228.773  10.065  238.838  2017   12     Friday   \n",
              "2017-12-23  1272.17085  748.074   8.450  756.524  2017   12   Saturday   \n",
              "2017-12-24  1141.75730  812.422   9.949  822.371  2017   12     Sunday   \n",
              "2017-12-25  1111.28338  587.810  15.765  603.575  2017   12     Monday   \n",
              "2017-12-26  1130.11683  717.453  30.923  748.376  2017   12    Tuesday   \n",
              "2017-12-27  1263.94091  394.507  16.530  411.037  2017   12  Wednesday   \n",
              "2017-12-28  1299.86398  506.424  14.162  520.586  2017   12   Thursday   \n",
              "2017-12-29  1295.08753  584.277  29.854  614.131  2017   12     Friday   \n",
              "2017-12-30  1215.44897  721.247   7.467  728.714  2017   12   Saturday   \n",
              "2017-12-31  1107.11488  721.176  19.980  741.156  2017   12     Sunday   \n",
              "\n",
              "            ConsumoAyer  \n",
              "Fecha                    \n",
              "2017-12-22      266.352  \n",
              "2017-12-23      238.838  \n",
              "2017-12-24      756.524  \n",
              "2017-12-25      822.371  \n",
              "2017-12-26      603.575  \n",
              "2017-12-27      748.376  \n",
              "2017-12-28      411.037  \n",
              "2017-12-29      520.586  \n",
              "2017-12-30      614.131  \n",
              "2017-12-31      728.714  "
            ]
          },
          "execution_count": 115,
          "metadata": {},
          "output_type": "execute_result"
        }
      ],
      "source": [
        "df_energia.tail(10)"
      ]
    },
    {
      "cell_type": "markdown",
      "metadata": {
        "id": "pqKKsmHNXWJU"
      },
      "source": [
        "Podemos observar como la columna 'ConsumoAyer' es el valor de la columna 'Suma' exactamente del periodo anterior. Esto se puede realizar con tantos periodos como uno desee, pero hay que tener cuidado porque al inicio de nuestro dataset van a quedar valores Nan por la cantidad de periodos que elijamos. Hay que evaluar con que valor completamos esos valores."
      ]
    },
    {
      "cell_type": "markdown",
      "metadata": {
        "id": "qiVfHMFKXWJU"
      },
      "source": [
        "Por ultimo supongamos que deseamos hacer la diferencia fila a fila del valor de ayer con el valor de hoy para el consumo total. Aqui nos conviene utilizar el metodo diff."
      ]
    },
    {
      "cell_type": "code",
      "execution_count": null,
      "metadata": {
        "id": "C6cUkegXXWJV"
      },
      "outputs": [],
      "source": [
        "df_energia['Diferencia'] = df_energia['Suma'].diff(1)"
      ]
    },
    {
      "cell_type": "code",
      "execution_count": null,
      "metadata": {
        "id": "for1D0CNXWJV",
        "outputId": "07be3f7c-005e-4e24-c1f2-3268bf29a009"
      },
      "outputs": [
        {
          "data": {
            "text/html": [
              "<div>\n",
              "<style scoped>\n",
              "    .dataframe tbody tr th:only-of-type {\n",
              "        vertical-align: middle;\n",
              "    }\n",
              "\n",
              "    .dataframe tbody tr th {\n",
              "        vertical-align: top;\n",
              "    }\n",
              "\n",
              "    .dataframe thead th {\n",
              "        text-align: right;\n",
              "    }\n",
              "</style>\n",
              "<table border=\"1\" class=\"dataframe\">\n",
              "  <thead>\n",
              "    <tr style=\"text-align: right;\">\n",
              "      <th></th>\n",
              "      <th>Consumo</th>\n",
              "      <th>Eolica</th>\n",
              "      <th>Solar</th>\n",
              "      <th>Suma</th>\n",
              "      <th>Anio</th>\n",
              "      <th>Mes</th>\n",
              "      <th>Dia</th>\n",
              "      <th>ConsumoAyer</th>\n",
              "      <th>Diferencia</th>\n",
              "    </tr>\n",
              "    <tr>\n",
              "      <th>Fecha</th>\n",
              "      <th></th>\n",
              "      <th></th>\n",
              "      <th></th>\n",
              "      <th></th>\n",
              "      <th></th>\n",
              "      <th></th>\n",
              "      <th></th>\n",
              "      <th></th>\n",
              "      <th></th>\n",
              "    </tr>\n",
              "  </thead>\n",
              "  <tbody>\n",
              "    <tr>\n",
              "      <th>2017-12-22</th>\n",
              "      <td>1423.23782</td>\n",
              "      <td>228.773</td>\n",
              "      <td>10.065</td>\n",
              "      <td>238.838</td>\n",
              "      <td>2017</td>\n",
              "      <td>12</td>\n",
              "      <td>Friday</td>\n",
              "      <td>266.352</td>\n",
              "      <td>-27.514</td>\n",
              "    </tr>\n",
              "    <tr>\n",
              "      <th>2017-12-23</th>\n",
              "      <td>1272.17085</td>\n",
              "      <td>748.074</td>\n",
              "      <td>8.450</td>\n",
              "      <td>756.524</td>\n",
              "      <td>2017</td>\n",
              "      <td>12</td>\n",
              "      <td>Saturday</td>\n",
              "      <td>238.838</td>\n",
              "      <td>517.686</td>\n",
              "    </tr>\n",
              "    <tr>\n",
              "      <th>2017-12-24</th>\n",
              "      <td>1141.75730</td>\n",
              "      <td>812.422</td>\n",
              "      <td>9.949</td>\n",
              "      <td>822.371</td>\n",
              "      <td>2017</td>\n",
              "      <td>12</td>\n",
              "      <td>Sunday</td>\n",
              "      <td>756.524</td>\n",
              "      <td>65.847</td>\n",
              "    </tr>\n",
              "    <tr>\n",
              "      <th>2017-12-25</th>\n",
              "      <td>1111.28338</td>\n",
              "      <td>587.810</td>\n",
              "      <td>15.765</td>\n",
              "      <td>603.575</td>\n",
              "      <td>2017</td>\n",
              "      <td>12</td>\n",
              "      <td>Monday</td>\n",
              "      <td>822.371</td>\n",
              "      <td>-218.796</td>\n",
              "    </tr>\n",
              "    <tr>\n",
              "      <th>2017-12-26</th>\n",
              "      <td>1130.11683</td>\n",
              "      <td>717.453</td>\n",
              "      <td>30.923</td>\n",
              "      <td>748.376</td>\n",
              "      <td>2017</td>\n",
              "      <td>12</td>\n",
              "      <td>Tuesday</td>\n",
              "      <td>603.575</td>\n",
              "      <td>144.801</td>\n",
              "    </tr>\n",
              "    <tr>\n",
              "      <th>2017-12-27</th>\n",
              "      <td>1263.94091</td>\n",
              "      <td>394.507</td>\n",
              "      <td>16.530</td>\n",
              "      <td>411.037</td>\n",
              "      <td>2017</td>\n",
              "      <td>12</td>\n",
              "      <td>Wednesday</td>\n",
              "      <td>748.376</td>\n",
              "      <td>-337.339</td>\n",
              "    </tr>\n",
              "    <tr>\n",
              "      <th>2017-12-28</th>\n",
              "      <td>1299.86398</td>\n",
              "      <td>506.424</td>\n",
              "      <td>14.162</td>\n",
              "      <td>520.586</td>\n",
              "      <td>2017</td>\n",
              "      <td>12</td>\n",
              "      <td>Thursday</td>\n",
              "      <td>411.037</td>\n",
              "      <td>109.549</td>\n",
              "    </tr>\n",
              "    <tr>\n",
              "      <th>2017-12-29</th>\n",
              "      <td>1295.08753</td>\n",
              "      <td>584.277</td>\n",
              "      <td>29.854</td>\n",
              "      <td>614.131</td>\n",
              "      <td>2017</td>\n",
              "      <td>12</td>\n",
              "      <td>Friday</td>\n",
              "      <td>520.586</td>\n",
              "      <td>93.545</td>\n",
              "    </tr>\n",
              "    <tr>\n",
              "      <th>2017-12-30</th>\n",
              "      <td>1215.44897</td>\n",
              "      <td>721.247</td>\n",
              "      <td>7.467</td>\n",
              "      <td>728.714</td>\n",
              "      <td>2017</td>\n",
              "      <td>12</td>\n",
              "      <td>Saturday</td>\n",
              "      <td>614.131</td>\n",
              "      <td>114.583</td>\n",
              "    </tr>\n",
              "    <tr>\n",
              "      <th>2017-12-31</th>\n",
              "      <td>1107.11488</td>\n",
              "      <td>721.176</td>\n",
              "      <td>19.980</td>\n",
              "      <td>741.156</td>\n",
              "      <td>2017</td>\n",
              "      <td>12</td>\n",
              "      <td>Sunday</td>\n",
              "      <td>728.714</td>\n",
              "      <td>12.442</td>\n",
              "    </tr>\n",
              "  </tbody>\n",
              "</table>\n",
              "</div>"
            ],
            "text/plain": [
              "               Consumo   Eolica   Solar     Suma  Anio  Mes        Dia  \\\n",
              "Fecha                                                                    \n",
              "2017-12-22  1423.23782  228.773  10.065  238.838  2017   12     Friday   \n",
              "2017-12-23  1272.17085  748.074   8.450  756.524  2017   12   Saturday   \n",
              "2017-12-24  1141.75730  812.422   9.949  822.371  2017   12     Sunday   \n",
              "2017-12-25  1111.28338  587.810  15.765  603.575  2017   12     Monday   \n",
              "2017-12-26  1130.11683  717.453  30.923  748.376  2017   12    Tuesday   \n",
              "2017-12-27  1263.94091  394.507  16.530  411.037  2017   12  Wednesday   \n",
              "2017-12-28  1299.86398  506.424  14.162  520.586  2017   12   Thursday   \n",
              "2017-12-29  1295.08753  584.277  29.854  614.131  2017   12     Friday   \n",
              "2017-12-30  1215.44897  721.247   7.467  728.714  2017   12   Saturday   \n",
              "2017-12-31  1107.11488  721.176  19.980  741.156  2017   12     Sunday   \n",
              "\n",
              "            ConsumoAyer  Diferencia  \n",
              "Fecha                                \n",
              "2017-12-22      266.352     -27.514  \n",
              "2017-12-23      238.838     517.686  \n",
              "2017-12-24      756.524      65.847  \n",
              "2017-12-25      822.371    -218.796  \n",
              "2017-12-26      603.575     144.801  \n",
              "2017-12-27      748.376    -337.339  \n",
              "2017-12-28      411.037     109.549  \n",
              "2017-12-29      520.586      93.545  \n",
              "2017-12-30      614.131     114.583  \n",
              "2017-12-31      728.714      12.442  "
            ]
          },
          "execution_count": 117,
          "metadata": {},
          "output_type": "execute_result"
        }
      ],
      "source": [
        "df_energia.tail(10)"
      ]
    }
  ],
  "metadata": {
    "kernelspec": {
      "display_name": "Python (base)",
      "language": "python",
      "name": "base"
    },
    "language_info": {
      "codemirror_mode": {
        "name": "ipython",
        "version": 3
      },
      "file_extension": ".py",
      "mimetype": "text/x-python",
      "name": "python",
      "nbconvert_exporter": "python",
      "pygments_lexer": "ipython3",
      "version": "3.7.3"
    },
    "colab": {
      "provenance": []
    }
  },
  "nbformat": 4,
  "nbformat_minor": 0
}